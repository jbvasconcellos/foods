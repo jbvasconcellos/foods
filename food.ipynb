{
 "cells": [
  {
   "cell_type": "code",
   "execution_count": 178,
   "metadata": {
    "scrolled": true
   },
   "outputs": [
    {
     "data": {
      "text/html": [
       "<div>\n",
       "<style scoped>\n",
       "    .dataframe tbody tr th:only-of-type {\n",
       "        vertical-align: middle;\n",
       "    }\n",
       "\n",
       "    .dataframe tbody tr th {\n",
       "        vertical-align: top;\n",
       "    }\n",
       "\n",
       "    .dataframe thead th {\n",
       "        text-align: right;\n",
       "    }\n",
       "</style>\n",
       "<table border=\"1\" class=\"dataframe\">\n",
       "  <thead>\n",
       "    <tr style=\"text-align: right;\">\n",
       "      <th></th>\n",
       "      <th>Name</th>\n",
       "      <th>Category_1</th>\n",
       "      <th>Category_2</th>\n",
       "      <th>Portion_size_g</th>\n",
       "      <th>Portion_size_ml</th>\n",
       "      <th>Calories</th>\n",
       "      <th>Carbs</th>\n",
       "      <th>Fat</th>\n",
       "      <th>Protein</th>\n",
       "      <th>Fiber</th>\n",
       "      <th>Package_sz_g</th>\n",
       "      <th>Package_sz_ml</th>\n",
       "      <th>Source</th>\n",
       "      <th>Brand</th>\n",
       "      <th>Description</th>\n",
       "    </tr>\n",
       "  </thead>\n",
       "  <tbody>\n",
       "    <tr>\n",
       "      <td>0</td>\n",
       "      <td>Flour 0</td>\n",
       "      <td>NaN</td>\n",
       "      <td>NaN</td>\n",
       "      <td>0.3</td>\n",
       "      <td>NaN</td>\n",
       "      <td>338.0</td>\n",
       "      <td>71.0</td>\n",
       "      <td>1.0</td>\n",
       "      <td>10.0</td>\n",
       "      <td>2.5</td>\n",
       "      <td>1000.0</td>\n",
       "      <td>NaN</td>\n",
       "      <td>Package</td>\n",
       "      <td>Coop</td>\n",
       "      <td>Farina di grano tenero</td>\n",
       "    </tr>\n",
       "    <tr>\n",
       "      <td>1</td>\n",
       "      <td>Flour 00</td>\n",
       "      <td>NaN</td>\n",
       "      <td>NaN</td>\n",
       "      <td>0.3</td>\n",
       "      <td>NaN</td>\n",
       "      <td>340.0</td>\n",
       "      <td>74.0</td>\n",
       "      <td>1.0</td>\n",
       "      <td>9.0</td>\n",
       "      <td>2.0</td>\n",
       "      <td>1000.0</td>\n",
       "      <td>NaN</td>\n",
       "      <td>MyFitnesspal</td>\n",
       "      <td>Coop</td>\n",
       "      <td>NaN</td>\n",
       "    </tr>\n",
       "    <tr>\n",
       "      <td>2</td>\n",
       "      <td>Whole wheat flour</td>\n",
       "      <td>NaN</td>\n",
       "      <td>NaN</td>\n",
       "      <td>0.3</td>\n",
       "      <td>NaN</td>\n",
       "      <td>362.0</td>\n",
       "      <td>71.0</td>\n",
       "      <td>2.0</td>\n",
       "      <td>12.0</td>\n",
       "      <td>7.0</td>\n",
       "      <td>1000.0</td>\n",
       "      <td>NaN</td>\n",
       "      <td>MyFitnesspal</td>\n",
       "      <td>Coop Vivi verdi</td>\n",
       "      <td>NaN</td>\n",
       "    </tr>\n",
       "    <tr>\n",
       "      <td>3</td>\n",
       "      <td>Potatoes</td>\n",
       "      <td>NaN</td>\n",
       "      <td>NaN</td>\n",
       "      <td>2.0</td>\n",
       "      <td>NaN</td>\n",
       "      <td>110.0</td>\n",
       "      <td>26.0</td>\n",
       "      <td>0.0</td>\n",
       "      <td>3.0</td>\n",
       "      <td>2.0</td>\n",
       "      <td>NaN</td>\n",
       "      <td>NaN</td>\n",
       "      <td>MyFitnesspal</td>\n",
       "      <td>NaN</td>\n",
       "      <td>NaN</td>\n",
       "    </tr>\n",
       "    <tr>\n",
       "      <td>4</td>\n",
       "      <td>Pasta</td>\n",
       "      <td>NaN</td>\n",
       "      <td>NaN</td>\n",
       "      <td>1.2</td>\n",
       "      <td>NaN</td>\n",
       "      <td>351.0</td>\n",
       "      <td>70.0</td>\n",
       "      <td>1.0</td>\n",
       "      <td>14.0</td>\n",
       "      <td>3.0</td>\n",
       "      <td>500.0</td>\n",
       "      <td>NaN</td>\n",
       "      <td>MyFitnesspal</td>\n",
       "      <td>La Molisana</td>\n",
       "      <td>Spaghetti quadrati</td>\n",
       "    </tr>\n",
       "  </tbody>\n",
       "</table>\n",
       "</div>"
      ],
      "text/plain": [
       "                Name  Category_1  Category_2  Portion_size_g  Portion_size_ml  \\\n",
       "0            Flour 0         NaN         NaN             0.3              NaN   \n",
       "1           Flour 00         NaN         NaN             0.3              NaN   \n",
       "2  Whole wheat flour         NaN         NaN             0.3              NaN   \n",
       "3           Potatoes         NaN         NaN             2.0              NaN   \n",
       "4              Pasta         NaN         NaN             1.2              NaN   \n",
       "\n",
       "   Calories  Carbs  Fat  Protein  Fiber  Package_sz_g  Package_sz_ml  \\\n",
       "0     338.0   71.0  1.0     10.0    2.5        1000.0            NaN   \n",
       "1     340.0   74.0  1.0      9.0    2.0        1000.0            NaN   \n",
       "2     362.0   71.0  2.0     12.0    7.0        1000.0            NaN   \n",
       "3     110.0   26.0  0.0      3.0    2.0           NaN            NaN   \n",
       "4     351.0   70.0  1.0     14.0    3.0         500.0            NaN   \n",
       "\n",
       "         Source            Brand             Description  \n",
       "0       Package             Coop  Farina di grano tenero  \n",
       "1  MyFitnesspal             Coop                     NaN  \n",
       "2  MyFitnesspal  Coop Vivi verdi                     NaN  \n",
       "3  MyFitnesspal              NaN                     NaN  \n",
       "4  MyFitnesspal      La Molisana     Spaghetti quadrati   "
      ]
     },
     "metadata": {},
     "output_type": "display_data"
    },
    {
     "name": "stdout",
     "output_type": "stream",
     "text": [
      "<class 'pandas.core.frame.DataFrame'>\n",
      "RangeIndex: 135 entries, 0 to 134\n",
      "Data columns (total 15 columns):\n",
      "Name               135 non-null object\n",
      "Category_1         0 non-null float64\n",
      "Category_2         0 non-null float64\n",
      "Portion_size_g     128 non-null float64\n",
      "Portion_size_ml    3 non-null float64\n",
      "Calories           134 non-null float64\n",
      "Carbs              133 non-null float64\n",
      "Fat                133 non-null float64\n",
      "Protein            134 non-null float64\n",
      "Fiber              67 non-null float64\n",
      "Package_sz_g       32 non-null float64\n",
      "Package_sz_ml      6 non-null float64\n",
      "Source             134 non-null object\n",
      "Brand              53 non-null object\n",
      "Description        77 non-null object\n",
      "dtypes: float64(11), object(4)\n",
      "memory usage: 15.9+ KB\n"
     ]
    },
    {
     "data": {
      "text/plain": [
       "None"
      ]
     },
     "metadata": {},
     "output_type": "display_data"
    },
    {
     "data": {
      "text/plain": [
       "Index(['Name', 'Category_1', 'Category_2', 'Portion_size_g', 'Portion_size_ml',\n",
       "       'Calories', 'Carbs', 'Fat', 'Protein', 'Fiber', 'Package_sz_g',\n",
       "       'Package_sz_ml', 'Source', 'Brand', 'Description'],\n",
       "      dtype='object')"
      ]
     },
     "metadata": {},
     "output_type": "display_data"
    }
   ],
   "source": [
    "import pandas as pd\n",
    "\n",
    "dataset = 'foods_dataset.csv'\n",
    "df = pd.read_csv(dataset)\n",
    "display(df.head())\n",
    "display(df.info())\n",
    "display(df.columns)"
   ]
  },
  {
   "cell_type": "markdown",
   "metadata": {},
   "source": [
    "Columns 'Category_1' and 'Category_2' are empty, whereas 'Portion_size_ml' is pretty much empty too;\n",
    "There are missing values for Carbs, Fat and Fibers also"
   ]
  },
  {
   "cell_type": "code",
   "execution_count": 179,
   "metadata": {
    "scrolled": true
   },
   "outputs": [
    {
     "data": {
      "text/html": [
       "<div>\n",
       "<style scoped>\n",
       "    .dataframe tbody tr th:only-of-type {\n",
       "        vertical-align: middle;\n",
       "    }\n",
       "\n",
       "    .dataframe tbody tr th {\n",
       "        vertical-align: top;\n",
       "    }\n",
       "\n",
       "    .dataframe thead th {\n",
       "        text-align: right;\n",
       "    }\n",
       "</style>\n",
       "<table border=\"1\" class=\"dataframe\">\n",
       "  <thead>\n",
       "    <tr style=\"text-align: right;\">\n",
       "      <th></th>\n",
       "      <th>Name</th>\n",
       "      <th>Calories</th>\n",
       "      <th>Carbs</th>\n",
       "      <th>Fat</th>\n",
       "      <th>Protein</th>\n",
       "      <th>Fiber</th>\n",
       "      <th>Package_sz_ml</th>\n",
       "    </tr>\n",
       "  </thead>\n",
       "  <tbody>\n",
       "    <tr>\n",
       "      <td>0</td>\n",
       "      <td>Flour 0</td>\n",
       "      <td>338.0</td>\n",
       "      <td>71.0</td>\n",
       "      <td>1.0</td>\n",
       "      <td>10.0</td>\n",
       "      <td>2.5</td>\n",
       "      <td>NaN</td>\n",
       "    </tr>\n",
       "    <tr>\n",
       "      <td>1</td>\n",
       "      <td>Flour 00</td>\n",
       "      <td>340.0</td>\n",
       "      <td>74.0</td>\n",
       "      <td>1.0</td>\n",
       "      <td>9.0</td>\n",
       "      <td>2.0</td>\n",
       "      <td>NaN</td>\n",
       "    </tr>\n",
       "    <tr>\n",
       "      <td>2</td>\n",
       "      <td>Whole wheat flour</td>\n",
       "      <td>362.0</td>\n",
       "      <td>71.0</td>\n",
       "      <td>2.0</td>\n",
       "      <td>12.0</td>\n",
       "      <td>7.0</td>\n",
       "      <td>NaN</td>\n",
       "    </tr>\n",
       "    <tr>\n",
       "      <td>3</td>\n",
       "      <td>Potatoes</td>\n",
       "      <td>110.0</td>\n",
       "      <td>26.0</td>\n",
       "      <td>0.0</td>\n",
       "      <td>3.0</td>\n",
       "      <td>2.0</td>\n",
       "      <td>NaN</td>\n",
       "    </tr>\n",
       "    <tr>\n",
       "      <td>4</td>\n",
       "      <td>Pasta</td>\n",
       "      <td>351.0</td>\n",
       "      <td>70.0</td>\n",
       "      <td>1.0</td>\n",
       "      <td>14.0</td>\n",
       "      <td>3.0</td>\n",
       "      <td>NaN</td>\n",
       "    </tr>\n",
       "  </tbody>\n",
       "</table>\n",
       "</div>"
      ],
      "text/plain": [
       "                Name  Calories  Carbs  Fat  Protein  Fiber  Package_sz_ml\n",
       "0            Flour 0     338.0   71.0  1.0     10.0    2.5            NaN\n",
       "1           Flour 00     340.0   74.0  1.0      9.0    2.0            NaN\n",
       "2  Whole wheat flour     362.0   71.0  2.0     12.0    7.0            NaN\n",
       "3           Potatoes     110.0   26.0  0.0      3.0    2.0            NaN\n",
       "4              Pasta     351.0   70.0  1.0     14.0    3.0            NaN"
      ]
     },
     "metadata": {},
     "output_type": "display_data"
    }
   ],
   "source": [
    "nutr_value = df[['Name','Calories', 'Carbs', 'Fat', 'Protein', 'Fiber', 'Package_sz_ml']] #df.drop(['Category_1', 'Category_2', 'Portion_size_ml'], axis=1)\n",
    "display(nutr_value.head())\n"
   ]
  },
  {
   "cell_type": "code",
   "execution_count": 180,
   "metadata": {},
   "outputs": [
    {
     "data": {
      "text/plain": [
       "Name               0\n",
       "Calories           1\n",
       "Carbs              2\n",
       "Fat                2\n",
       "Protein            1\n",
       "Fiber             68\n",
       "Package_sz_ml    129\n",
       "dtype: int64"
      ]
     },
     "metadata": {},
     "output_type": "display_data"
    },
    {
     "data": {
      "text/plain": [
       "Index(['Flour 0', 'Flour 00', 'Whole wheat flour', 'Potatoes', 'Pasta',\n",
       "       'Carnaroli rice', 'Basmati rice', 'Manioc flour', 'Couscous', 'Orzo',\n",
       "       ...\n",
       "       'Champignon', 'Porcini', 'Tangerine', 'Strawberry', 'Cherry',\n",
       "       'Chestnut', 'Hazelnut', 'Olive', 'Pizza margheritta', 'Polenta'],\n",
       "      dtype='object', name='Name', length=135)"
      ]
     },
     "execution_count": 180,
     "metadata": {},
     "output_type": "execute_result"
    }
   ],
   "source": [
    "display(nutr_value.isnull().sum())\n",
    "nutr_value = nutr_value.set_index('Name')\n",
    "nutr_value.index"
   ]
  },
  {
   "cell_type": "code",
   "execution_count": 181,
   "metadata": {},
   "outputs": [
    {
     "data": {
      "text/html": [
       "<div>\n",
       "<style scoped>\n",
       "    .dataframe tbody tr th:only-of-type {\n",
       "        vertical-align: middle;\n",
       "    }\n",
       "\n",
       "    .dataframe tbody tr th {\n",
       "        vertical-align: top;\n",
       "    }\n",
       "\n",
       "    .dataframe thead th {\n",
       "        text-align: right;\n",
       "    }\n",
       "</style>\n",
       "<table border=\"1\" class=\"dataframe\">\n",
       "  <thead>\n",
       "    <tr style=\"text-align: right;\">\n",
       "      <th></th>\n",
       "      <th>Calories</th>\n",
       "      <th>Carbs</th>\n",
       "      <th>Fat</th>\n",
       "      <th>Protein</th>\n",
       "      <th>Fiber</th>\n",
       "      <th>Package_sz_ml</th>\n",
       "    </tr>\n",
       "    <tr>\n",
       "      <th>Name</th>\n",
       "      <th></th>\n",
       "      <th></th>\n",
       "      <th></th>\n",
       "      <th></th>\n",
       "      <th></th>\n",
       "      <th></th>\n",
       "    </tr>\n",
       "  </thead>\n",
       "  <tbody>\n",
       "    <tr>\n",
       "      <td>Oister</td>\n",
       "      <td>NaN</td>\n",
       "      <td>NaN</td>\n",
       "      <td>NaN</td>\n",
       "      <td>NaN</td>\n",
       "      <td>NaN</td>\n",
       "      <td>NaN</td>\n",
       "    </tr>\n",
       "  </tbody>\n",
       "</table>\n",
       "</div>"
      ],
      "text/plain": [
       "        Calories  Carbs  Fat  Protein  Fiber  Package_sz_ml\n",
       "Name                                                       \n",
       "Oister       NaN    NaN  NaN      NaN    NaN            NaN"
      ]
     },
     "metadata": {},
     "output_type": "display_data"
    },
    {
     "data": {
      "text/html": [
       "<div>\n",
       "<style scoped>\n",
       "    .dataframe tbody tr th:only-of-type {\n",
       "        vertical-align: middle;\n",
       "    }\n",
       "\n",
       "    .dataframe tbody tr th {\n",
       "        vertical-align: top;\n",
       "    }\n",
       "\n",
       "    .dataframe thead th {\n",
       "        text-align: right;\n",
       "    }\n",
       "</style>\n",
       "<table border=\"1\" class=\"dataframe\">\n",
       "  <thead>\n",
       "    <tr style=\"text-align: right;\">\n",
       "      <th></th>\n",
       "      <th>Calories</th>\n",
       "      <th>Carbs</th>\n",
       "      <th>Fat</th>\n",
       "      <th>Protein</th>\n",
       "      <th>Fiber</th>\n",
       "      <th>Package_sz_ml</th>\n",
       "    </tr>\n",
       "    <tr>\n",
       "      <th>Name</th>\n",
       "      <th></th>\n",
       "      <th></th>\n",
       "      <th></th>\n",
       "      <th></th>\n",
       "      <th></th>\n",
       "      <th></th>\n",
       "    </tr>\n",
       "  </thead>\n",
       "  <tbody>\n",
       "    <tr>\n",
       "      <td>Lamb brain</td>\n",
       "      <td>122.0</td>\n",
       "      <td>NaN</td>\n",
       "      <td>9.0</td>\n",
       "      <td>10.0</td>\n",
       "      <td>NaN</td>\n",
       "      <td>NaN</td>\n",
       "    </tr>\n",
       "    <tr>\n",
       "      <td>Oister</td>\n",
       "      <td>NaN</td>\n",
       "      <td>NaN</td>\n",
       "      <td>NaN</td>\n",
       "      <td>NaN</td>\n",
       "      <td>NaN</td>\n",
       "      <td>NaN</td>\n",
       "    </tr>\n",
       "  </tbody>\n",
       "</table>\n",
       "</div>"
      ],
      "text/plain": [
       "            Calories  Carbs  Fat  Protein  Fiber  Package_sz_ml\n",
       "Name                                                           \n",
       "Lamb brain     122.0    NaN  9.0     10.0    NaN            NaN\n",
       "Oister           NaN    NaN  NaN      NaN    NaN            NaN"
      ]
     },
     "metadata": {},
     "output_type": "display_data"
    },
    {
     "data": {
      "text/html": [
       "<div>\n",
       "<style scoped>\n",
       "    .dataframe tbody tr th:only-of-type {\n",
       "        vertical-align: middle;\n",
       "    }\n",
       "\n",
       "    .dataframe tbody tr th {\n",
       "        vertical-align: top;\n",
       "    }\n",
       "\n",
       "    .dataframe thead th {\n",
       "        text-align: right;\n",
       "    }\n",
       "</style>\n",
       "<table border=\"1\" class=\"dataframe\">\n",
       "  <thead>\n",
       "    <tr style=\"text-align: right;\">\n",
       "      <th></th>\n",
       "      <th>Calories</th>\n",
       "      <th>Carbs</th>\n",
       "      <th>Fat</th>\n",
       "      <th>Protein</th>\n",
       "      <th>Fiber</th>\n",
       "      <th>Package_sz_ml</th>\n",
       "    </tr>\n",
       "    <tr>\n",
       "      <th>Name</th>\n",
       "      <th></th>\n",
       "      <th></th>\n",
       "      <th></th>\n",
       "      <th></th>\n",
       "      <th></th>\n",
       "      <th></th>\n",
       "    </tr>\n",
       "  </thead>\n",
       "  <tbody>\n",
       "    <tr>\n",
       "      <td>Nectarine</td>\n",
       "      <td>44.0</td>\n",
       "      <td>11.0</td>\n",
       "      <td>NaN</td>\n",
       "      <td>1.0</td>\n",
       "      <td>2.0</td>\n",
       "      <td>NaN</td>\n",
       "    </tr>\n",
       "    <tr>\n",
       "      <td>Oister</td>\n",
       "      <td>NaN</td>\n",
       "      <td>NaN</td>\n",
       "      <td>NaN</td>\n",
       "      <td>NaN</td>\n",
       "      <td>NaN</td>\n",
       "      <td>NaN</td>\n",
       "    </tr>\n",
       "  </tbody>\n",
       "</table>\n",
       "</div>"
      ],
      "text/plain": [
       "           Calories  Carbs  Fat  Protein  Fiber  Package_sz_ml\n",
       "Name                                                          \n",
       "Nectarine      44.0   11.0  NaN      1.0    2.0            NaN\n",
       "Oister          NaN    NaN  NaN      NaN    NaN            NaN"
      ]
     },
     "metadata": {},
     "output_type": "display_data"
    },
    {
     "data": {
      "text/html": [
       "<div>\n",
       "<style scoped>\n",
       "    .dataframe tbody tr th:only-of-type {\n",
       "        vertical-align: middle;\n",
       "    }\n",
       "\n",
       "    .dataframe tbody tr th {\n",
       "        vertical-align: top;\n",
       "    }\n",
       "\n",
       "    .dataframe thead th {\n",
       "        text-align: right;\n",
       "    }\n",
       "</style>\n",
       "<table border=\"1\" class=\"dataframe\">\n",
       "  <thead>\n",
       "    <tr style=\"text-align: right;\">\n",
       "      <th></th>\n",
       "      <th>Calories</th>\n",
       "      <th>Carbs</th>\n",
       "      <th>Fat</th>\n",
       "      <th>Protein</th>\n",
       "      <th>Fiber</th>\n",
       "      <th>Package_sz_ml</th>\n",
       "    </tr>\n",
       "    <tr>\n",
       "      <th>Name</th>\n",
       "      <th></th>\n",
       "      <th></th>\n",
       "      <th></th>\n",
       "      <th></th>\n",
       "      <th></th>\n",
       "      <th></th>\n",
       "    </tr>\n",
       "  </thead>\n",
       "  <tbody>\n",
       "    <tr>\n",
       "      <td>Oister</td>\n",
       "      <td>NaN</td>\n",
       "      <td>NaN</td>\n",
       "      <td>NaN</td>\n",
       "      <td>NaN</td>\n",
       "      <td>NaN</td>\n",
       "      <td>NaN</td>\n",
       "    </tr>\n",
       "  </tbody>\n",
       "</table>\n",
       "</div>"
      ],
      "text/plain": [
       "        Calories  Carbs  Fat  Protein  Fiber  Package_sz_ml\n",
       "Name                                                       \n",
       "Oister       NaN    NaN  NaN      NaN    NaN            NaN"
      ]
     },
     "metadata": {},
     "output_type": "display_data"
    }
   ],
   "source": [
    "display(nutr_value[nutr_value['Calories'].isnull()])\n",
    "display(nutr_value[nutr_value['Carbs'].isnull()])\n",
    "display(nutr_value[nutr_value['Fat'].isnull()])\n",
    "display(nutr_value[nutr_value['Protein'].isnull()])"
   ]
  },
  {
   "cell_type": "markdown",
   "metadata": {},
   "source": [
    "Oister row can be excluded; search carbs in Lamb brain and set fat content in nectarine equal to fat content in peach"
   ]
  },
  {
   "cell_type": "code",
   "execution_count": 182,
   "metadata": {},
   "outputs": [
    {
     "data": {
      "text/plain": [
       "(134, 6)"
      ]
     },
     "metadata": {},
     "output_type": "display_data"
    }
   ],
   "source": [
    "nutr_value.drop('Oister', axis=0, inplace=True)\n",
    "display(nutr_value.shape)\n"
   ]
  },
  {
   "cell_type": "code",
   "execution_count": 183,
   "metadata": {},
   "outputs": [
    {
     "data": {
      "text/plain": [
       "Calories           0\n",
       "Carbs              0\n",
       "Fat                0\n",
       "Protein            0\n",
       "Fiber              0\n",
       "Package_sz_ml    128\n",
       "dtype: int64"
      ]
     },
     "metadata": {},
     "output_type": "display_data"
    }
   ],
   "source": [
    "nutr_value.loc['Lamb brain', 'Carbs'] = 0\n",
    "nutr_value.loc['Nectarine', 'Fat'] = nutr_value.loc['Yellow peach', 'Fat']\n",
    "nutr_value['Fiber'].fillna(0, inplace=True)\n",
    "\n",
    "display(nutr_value.isnull().sum())"
   ]
  },
  {
   "cell_type": "code",
   "execution_count": 184,
   "metadata": {},
   "outputs": [
    {
     "data": {
      "text/plain": [
       "{'Calories': 0, 'Carbs': 0.25, 'Protein': 0.17, 'Fat': 0.5, 'Fiber': 0.25}"
      ]
     },
     "metadata": {},
     "output_type": "display_data"
    },
    {
     "data": {
      "text/plain": [
       "{'Calories': 0, 'Carbs': 0, 'Protein': 0, 'Fat': 0, 'Fiber': 0}"
      ]
     },
     "metadata": {},
     "output_type": "display_data"
    }
   ],
   "source": [
    "def check_for_decimals(data_frame, list_of_columns):\n",
    "    \"\"\"returns percentage of decimal values within columns of a data frame\"\"\"\n",
    "    number_of_decimals = dict.fromkeys(list_of_columns, 0)\n",
    "    for column in list_of_columns:\n",
    "        for x in data_frame[column]:\n",
    "            if x.is_integer() == False:\n",
    "                number_of_decimals[column] = round((number_of_decimals[column] + 1)/len(column), 2)\n",
    "    return number_of_decimals\n",
    "\n",
    "columns = ['Calories', 'Carbs', 'Protein', 'Fat', 'Fiber']\n",
    "display(check_for_decimals(nutr_value,columns))\n",
    "\n",
    "nutr_value_round = nutr_value.round()\n",
    "\n",
    "display(check_for_decimals(nutr_value_round, columns))"
   ]
  },
  {
   "cell_type": "markdown",
   "metadata": {},
   "source": [
    "The dataset contains foods whose nutritional values are estimated w.r.t. portions of either 100g or 100ml (for liquids). It is meaningless to compare foods belonging to different categories. "
   ]
  },
  {
   "cell_type": "code",
   "execution_count": 185,
   "metadata": {
    "scrolled": true
   },
   "outputs": [
    {
     "name": "stdout",
     "output_type": "stream",
     "text": [
      "<class 'pandas.core.frame.DataFrame'>\n",
      "Index: 128 entries, Flour 0 to Polenta\n",
      "Data columns (total 5 columns):\n",
      "Calories    128 non-null float64\n",
      "Carbs       128 non-null float64\n",
      "Fat         128 non-null float64\n",
      "Protein     128 non-null float64\n",
      "Fiber       128 non-null float64\n",
      "dtypes: float64(5)\n",
      "memory usage: 6.0+ KB\n"
     ]
    },
    {
     "data": {
      "text/html": [
       "<div>\n",
       "<style scoped>\n",
       "    .dataframe tbody tr th:only-of-type {\n",
       "        vertical-align: middle;\n",
       "    }\n",
       "\n",
       "    .dataframe tbody tr th {\n",
       "        vertical-align: top;\n",
       "    }\n",
       "\n",
       "    .dataframe thead th {\n",
       "        text-align: right;\n",
       "    }\n",
       "</style>\n",
       "<table border=\"1\" class=\"dataframe\">\n",
       "  <thead>\n",
       "    <tr style=\"text-align: right;\">\n",
       "      <th></th>\n",
       "      <th>Calories</th>\n",
       "      <th>Carbs</th>\n",
       "      <th>Fat</th>\n",
       "      <th>Protein</th>\n",
       "      <th>Fiber</th>\n",
       "    </tr>\n",
       "    <tr>\n",
       "      <th>Name</th>\n",
       "      <th></th>\n",
       "      <th></th>\n",
       "      <th></th>\n",
       "      <th></th>\n",
       "      <th></th>\n",
       "    </tr>\n",
       "  </thead>\n",
       "  <tbody>\n",
       "    <tr>\n",
       "      <td>Flour 0</td>\n",
       "      <td>338.0</td>\n",
       "      <td>71.0</td>\n",
       "      <td>1.0</td>\n",
       "      <td>10.0</td>\n",
       "      <td>2.0</td>\n",
       "    </tr>\n",
       "    <tr>\n",
       "      <td>Flour 00</td>\n",
       "      <td>340.0</td>\n",
       "      <td>74.0</td>\n",
       "      <td>1.0</td>\n",
       "      <td>9.0</td>\n",
       "      <td>2.0</td>\n",
       "    </tr>\n",
       "    <tr>\n",
       "      <td>Whole wheat flour</td>\n",
       "      <td>362.0</td>\n",
       "      <td>71.0</td>\n",
       "      <td>2.0</td>\n",
       "      <td>12.0</td>\n",
       "      <td>7.0</td>\n",
       "    </tr>\n",
       "    <tr>\n",
       "      <td>Potatoes</td>\n",
       "      <td>110.0</td>\n",
       "      <td>26.0</td>\n",
       "      <td>0.0</td>\n",
       "      <td>3.0</td>\n",
       "      <td>2.0</td>\n",
       "    </tr>\n",
       "    <tr>\n",
       "      <td>Pasta</td>\n",
       "      <td>351.0</td>\n",
       "      <td>70.0</td>\n",
       "      <td>1.0</td>\n",
       "      <td>14.0</td>\n",
       "      <td>3.0</td>\n",
       "    </tr>\n",
       "  </tbody>\n",
       "</table>\n",
       "</div>"
      ],
      "text/plain": [
       "                   Calories  Carbs  Fat  Protein  Fiber\n",
       "Name                                                   \n",
       "Flour 0               338.0   71.0  1.0     10.0    2.0\n",
       "Flour 00              340.0   74.0  1.0      9.0    2.0\n",
       "Whole wheat flour     362.0   71.0  2.0     12.0    7.0\n",
       "Potatoes              110.0   26.0  0.0      3.0    2.0\n",
       "Pasta                 351.0   70.0  1.0     14.0    3.0"
      ]
     },
     "execution_count": 185,
     "metadata": {},
     "output_type": "execute_result"
    }
   ],
   "source": [
    "solid_foods = nutr_value_round[nutr_value_round['Package_sz_ml'].isnull() == True]\n",
    "solid_foods.drop('Package_sz_ml', axis=1, inplace=True)\n",
    "\n",
    "solid_foods.info()\n",
    "solid_foods.head()"
   ]
  },
  {
   "cell_type": "code",
   "execution_count": 212,
   "metadata": {},
   "outputs": [
    {
     "data": {
      "image/png": "[encoded data removed]",
      "text/plain": [
       "<Figure size 432x288 with 1 Axes>"
      ]
     },
     "metadata": {
      "needs_background": "light"
     },
     "output_type": "display_data"
    },
    {
     "data": {
      "image/png": "[encoded data removed]",
      "text/plain": [
       "<Figure size 432x288 with 1 Axes>"
      ]
     },
     "metadata": {
      "needs_background": "light"
     },
     "output_type": "display_data"
    },
    {
     "data": {
      "image/png": "[encoded data removed]",
      "text/plain": [
       "<Figure size 432x288 with 1 Axes>"
      ]
     },
     "metadata": {
      "needs_background": "light"
     },
     "output_type": "display_data"
    },
    {
     "data": {
      "image/png": "[encoded data removed]",
      "text/plain": [
       "<Figure size 432x288 with 1 Axes>"
      ]
     },
     "metadata": {
      "needs_background": "light"
     },
     "output_type": "display_data"
    },
    {
     "data": {
      "image/png": "[encoded data removed]",
      "text/plain": [
       "<Figure size 432x288 with 1 Axes>"
      ]
     },
     "metadata": {
      "needs_background": "light"
     },
     "output_type": "display_data"
    }
   ],
   "source": [
    "import matplotlib.pyplot as plt\n",
    "\n",
    "for n in columns:\n",
    "    plt.hist(solid_foods[n], bins=20)\n",
    "    plt.xlabel(n + ' per 100g of food')\n",
    "    plt.title('Count of ' + n + ' per 100g of food')\n",
    "    plt.show()\n",
    "\n"
   ]
  },
  {
   "cell_type": "code",
   "execution_count": 187,
   "metadata": {},
   "outputs": [
    {
     "data": {
      "image/png": "[encoded data removed]",
      "text/plain": [
       "<Figure size 432x288 with 1 Axes>"
      ]
     },
     "metadata": {
      "needs_background": "light"
     },
     "output_type": "display_data"
    }
   ],
   "source": [
    "alpha=0.6\n",
    "fig, ax = plt.subplots(sharey=True)\n",
    "#ax = fig.add_subplot()\n",
    "ax.set(title='Caloric value vs. amount of macronutrients per 100g of food', \n",
    "       ylabel='kcal per 100g', \n",
    "       xlabel='Macronutrients per 100g (g)')\n",
    "ax1 = ax.scatter(x='Protein', y='Calories', data=solid_foods, alpha=alpha)\n",
    "ax2 = ax.scatter(x='Carbs', y='Calories', data=solid_foods, alpha=alpha)\n",
    "ax3 = ax.scatter(x='Fat', y='Calories', data=solid_foods, alpha=alpha)\n",
    "\n",
    "ax.legend((ax1, ax2, ax3), ('Proteins', 'Carbohydrates', 'Fats'))\n",
    "plt.show()\n",
    "\n"
   ]
  },
  {
   "cell_type": "markdown",
   "metadata": {},
   "source": [
    "Limit in amount of proteins per 100g; linear dependence fat X calories"
   ]
  },
  {
   "cell_type": "code",
   "execution_count": 188,
   "metadata": {},
   "outputs": [
    {
     "name": "stdout",
     "output_type": "stream",
     "text": [
      "[  8.8585372  114.16512409] [[  0.34653682  -3.06468503]\n",
      " [ -3.06468503 113.04680929]]\n"
     ]
    },
    {
     "data": {
      "image/png": "[encoded data removed]",
      "text/plain": [
       "<Figure size 432x288 with 1 Axes>"
      ]
     },
     "metadata": {
      "needs_background": "light"
     },
     "output_type": "display_data"
    },
    {
     "name": "stdout",
     "output_type": "stream",
     "text": [
      "angular coeff.: 8.858537204824403 +/- 0.5886737833475261\n",
      "linear coeff.: 114.16512409483421 +/- 10.632347308731974\n"
     ]
    }
   ],
   "source": [
    "import numpy as np\n",
    "\n",
    "X_fat = np.array(solid_foods['Fat'])\n",
    "Y = np.array(solid_foods['Calories'])\n",
    "p_fat, cov_fat = np.polyfit(X_fat, Y, deg=1, cov=True)\n",
    "\n",
    "print(p, cov)\n",
    "\n",
    "fig, ax = plt.subplots()\n",
    "ax.set(title='Caloric value vs. fat content per 100g of food', \n",
    "       ylabel='kcal per 100g', \n",
    "       xlabel='Fats per 100g (g)')\n",
    "ax.scatter(x='Fat', y='Calories', data=solid_foods, color='darkgreen')\n",
    "ax.plot(solid_foods['Fat'], p_fat[0]*solid_foods['Fat'] + p_fat[1], 'red', linewidth=0.7)\n",
    "plt.show()\n",
    "\n",
    "print('angular coeff.:', p_fat[0], '+/-', np.sqrt(cov_fat[0,0]))\n",
    "print('linear coeff.:', p_fat[1], '+/-', np.sqrt(cov_fat[1,1]))"
   ]
  },
  {
   "cell_type": "markdown",
   "metadata": {},
   "source": [
    "Aprox. 8.85 kcal per gram of fat; get uncertainty, comment b"
   ]
  },
  {
   "cell_type": "code",
   "execution_count": 189,
   "metadata": {},
   "outputs": [
    {
     "data": {
      "image/png": "[encoded data removed]",
      "text/plain": [
       "<Figure size 432x288 with 1 Axes>"
      ]
     },
     "metadata": {
      "needs_background": "light"
     },
     "output_type": "display_data"
    },
    {
     "name": "stdout",
     "output_type": "stream",
     "text": [
      "angular coeff.: 3.137356922033249 +/- 0.5747367934567247 \n",
      " linear coeff.: 138.5109585996934 +/- 17.095929099090988\n"
     ]
    }
   ],
   "source": [
    "X_carbs = np.array(solid_foods['Carbs'])\n",
    "p_carbs, cov_carbs = np.polyfit(X_carbs, Y, deg=1, cov=True)\n",
    "\n",
    "fig, ax = plt.subplots()\n",
    "ax.set(title='Caloric value vs. carbohydrates content per 100g of food', \n",
    "       ylabel='kcal per 100g', \n",
    "       xlabel='Carbohydrates per 100g (g)')\n",
    "ax.scatter(x='Carbs', y='Calories', data=solid_foods, color='orange')\n",
    "ax.plot(solid_foods['Carbs'], p_carbs[0]*solid_foods['Carbs'] + p_carbs[1], 'red', linewidth=0.7)\n",
    "plt.show()\n",
    "\n",
    "print('angular coeff.:', p_carbs[0], '+/-', np.sqrt(cov_carbs[0,0]), '\\n', 'linear coeff.:', p_carbs[1], '+/-', np.sqrt(cov_carbs[1,1]))\n"
   ]
  },
  {
   "cell_type": "code",
   "execution_count": 190,
   "metadata": {},
   "outputs": [
    {
     "data": {
      "image/png": "[encoded data removed]",
      "text/plain": [
       "<Figure size 432x288 with 1 Axes>"
      ]
     },
     "metadata": {
      "needs_background": "light"
     },
     "output_type": "display_data"
    },
    {
     "name": "stdout",
     "output_type": "stream",
     "text": [
      "angular coeff.: 7.6200416866147425 +/- 1.553613973590997 \n",
      " linear coeff.: 113.2117536986653 +/- 21.52312647279291\n"
     ]
    }
   ],
   "source": [
    "X_prot = np.array(solid_foods['Protein'])\n",
    "p_prot, cov_prot = np.polyfit(X_prot, Y, deg=1, cov=True)\n",
    "\n",
    "fig, ax = plt.subplots()\n",
    "ax.set(title='Caloric value vs. proteins content per 100g of food', \n",
    "       ylabel='kcal per 100g', \n",
    "       xlabel='Proteins per 100g (g)')\n",
    "ax.scatter(x='Protein', y='Calories', data=solid_foods)\n",
    "ax.plot(solid_foods['Protein'], p_prot[0]*solid_foods['Protein'] + p_prot[1], 'red', linewidth=0.7)\n",
    "plt.show()\n",
    "\n",
    "print('angular coeff.:', p_prot[0], '+/-', np.sqrt(cov_prot[0,0]), '\\n', 'linear coeff.:', p_prot[1], '+/-', np.sqrt(cov_prot[1,1]))"
   ]
  },
  {
   "cell_type": "code",
   "execution_count": 191,
   "metadata": {},
   "outputs": [
    {
     "data": {
      "image/png": "[encoded data removed]",
      "text/plain": [
       "<Figure size 432x288 with 1 Axes>"
      ]
     },
     "metadata": {
      "needs_background": "light"
     },
     "output_type": "display_data"
    },
    {
     "name": "stdout",
     "output_type": "stream",
     "text": [
      "1.014154710154735 -0.24496709878439857\n"
     ]
    },
    {
     "data": {
      "image/png": "[encoded data removed]",
      "text/plain": [
       "<Figure size 432x288 with 1 Axes>"
      ]
     },
     "metadata": {
      "needs_background": "light"
     },
     "output_type": "display_data"
    },
    {
     "name": "stdout",
     "output_type": "stream",
     "text": [
      "0.9510224479765522 -8.762394943584784\n"
     ]
    }
   ],
   "source": [
    "X_caloriesT = np.array(4*(solid_foods['Protein'] + solid_foods['Carbs']) + 9*solid_foods['Fat'])\n",
    "X_caloriesP = np.array(p_prot[0]*solid_foods['Protein'] + p_carbs[0]*solid_foods['Carbs'] + p_fat[0]*solid_foods['Fat'])\n",
    "a_kcT, b_kcT = np.polyfit(X_caloriesT, Y, deg=1)\n",
    "a_kcP, b_kcP = np.polyfit(X_caloriesP, Y, deg=1)\n",
    "\n",
    "plt.scatter(x=X_caloriesT, y=solid_foods['Calories'])\n",
    "plt.plot(X_caloriesT, a_kcT*X_caloriesT + b_kcT, 'red', linewidth=0.7)\n",
    "plt.show()\n",
    "\n",
    "print(a_kcT, b_kcT)\n",
    "\n",
    "plt.scatter(x=X_caloriesP, y=solid_foods['Calories'])\n",
    "plt.plot(X_caloriesP, a_kcP*X_caloriesP + b_kcP, 'red', linewidth=0.7)\n",
    "plt.show()\n",
    "\n",
    "print(a_kcP, b_kcP)\n"
   ]
  },
  {
   "cell_type": "markdown",
   "metadata": {},
   "source": [
    "Considering portion size:"
   ]
  },
  {
   "cell_type": "code",
   "execution_count": 192,
   "metadata": {},
   "outputs": [
    {
     "data": {
      "text/plain": [
       "(135, 1)"
      ]
     },
     "metadata": {},
     "output_type": "display_data"
    },
    {
     "data": {
      "text/plain": [
       "(128, 5)"
      ]
     },
     "metadata": {},
     "output_type": "display_data"
    },
    {
     "data": {
      "text/plain": [
       "(128, 6)"
      ]
     },
     "metadata": {},
     "output_type": "display_data"
    },
    {
     "data": {
      "text/html": [
       "<div>\n",
       "<style scoped>\n",
       "    .dataframe tbody tr th:only-of-type {\n",
       "        vertical-align: middle;\n",
       "    }\n",
       "\n",
       "    .dataframe tbody tr th {\n",
       "        vertical-align: top;\n",
       "    }\n",
       "\n",
       "    .dataframe thead th {\n",
       "        text-align: right;\n",
       "    }\n",
       "</style>\n",
       "<table border=\"1\" class=\"dataframe\">\n",
       "  <thead>\n",
       "    <tr style=\"text-align: right;\">\n",
       "      <th></th>\n",
       "      <th>Portion_size_g</th>\n",
       "      <th>Calories</th>\n",
       "      <th>Carbs</th>\n",
       "      <th>Fat</th>\n",
       "      <th>Protein</th>\n",
       "      <th>Fiber</th>\n",
       "    </tr>\n",
       "    <tr>\n",
       "      <th>Name</th>\n",
       "      <th></th>\n",
       "      <th></th>\n",
       "      <th></th>\n",
       "      <th></th>\n",
       "      <th></th>\n",
       "      <th></th>\n",
       "    </tr>\n",
       "  </thead>\n",
       "  <tbody>\n",
       "    <tr>\n",
       "      <td>Flour 0</td>\n",
       "      <td>0.3</td>\n",
       "      <td>338.0</td>\n",
       "      <td>71.0</td>\n",
       "      <td>1.0</td>\n",
       "      <td>10.0</td>\n",
       "      <td>2.0</td>\n",
       "    </tr>\n",
       "    <tr>\n",
       "      <td>Flour 00</td>\n",
       "      <td>0.3</td>\n",
       "      <td>340.0</td>\n",
       "      <td>74.0</td>\n",
       "      <td>1.0</td>\n",
       "      <td>9.0</td>\n",
       "      <td>2.0</td>\n",
       "    </tr>\n",
       "    <tr>\n",
       "      <td>Whole wheat flour</td>\n",
       "      <td>0.3</td>\n",
       "      <td>362.0</td>\n",
       "      <td>71.0</td>\n",
       "      <td>2.0</td>\n",
       "      <td>12.0</td>\n",
       "      <td>7.0</td>\n",
       "    </tr>\n",
       "    <tr>\n",
       "      <td>Potatoes</td>\n",
       "      <td>2.0</td>\n",
       "      <td>110.0</td>\n",
       "      <td>26.0</td>\n",
       "      <td>0.0</td>\n",
       "      <td>3.0</td>\n",
       "      <td>2.0</td>\n",
       "    </tr>\n",
       "    <tr>\n",
       "      <td>Pasta</td>\n",
       "      <td>1.2</td>\n",
       "      <td>351.0</td>\n",
       "      <td>70.0</td>\n",
       "      <td>1.0</td>\n",
       "      <td>14.0</td>\n",
       "      <td>3.0</td>\n",
       "    </tr>\n",
       "  </tbody>\n",
       "</table>\n",
       "</div>"
      ],
      "text/plain": [
       "                   Portion_size_g  Calories  Carbs  Fat  Protein  Fiber\n",
       "Name                                                                   \n",
       "Flour 0                       0.3     338.0   71.0  1.0     10.0    2.0\n",
       "Flour 00                      0.3     340.0   74.0  1.0      9.0    2.0\n",
       "Whole wheat flour             0.3     362.0   71.0  2.0     12.0    7.0\n",
       "Potatoes                      2.0     110.0   26.0  0.0      3.0    2.0\n",
       "Pasta                         1.2     351.0   70.0  1.0     14.0    3.0"
      ]
     },
     "metadata": {},
     "output_type": "display_data"
    }
   ],
   "source": [
    "portion_sizes = df[['Name', 'Portion_size_g']].set_index('Name')\n",
    "portion_sizes.head()\n",
    "\n",
    "solid_foods_portion = pd.merge(portion_sizes, solid_foods, on='Name', how='inner')\n",
    "display(portion_sizes.shape)\n",
    "display(solid_foods.shape)\n",
    "display(solid_foods_portion.shape)\n",
    "display(solid_foods_portion.head())"
   ]
  },
  {
   "cell_type": "code",
   "execution_count": 194,
   "metadata": {},
   "outputs": [
    {
     "data": {
      "text/html": [
       "<div>\n",
       "<style scoped>\n",
       "    .dataframe tbody tr th:only-of-type {\n",
       "        vertical-align: middle;\n",
       "    }\n",
       "\n",
       "    .dataframe tbody tr th {\n",
       "        vertical-align: top;\n",
       "    }\n",
       "\n",
       "    .dataframe thead th {\n",
       "        text-align: right;\n",
       "    }\n",
       "</style>\n",
       "<table border=\"1\" class=\"dataframe\">\n",
       "  <thead>\n",
       "    <tr style=\"text-align: right;\">\n",
       "      <th></th>\n",
       "      <th>Portion_size_g</th>\n",
       "      <th>Calories_per_portion</th>\n",
       "      <th>Carbs_per_portion</th>\n",
       "      <th>Protein_per_portion</th>\n",
       "      <th>Fat_per_portion</th>\n",
       "      <th>Fiber_per_portion</th>\n",
       "    </tr>\n",
       "    <tr>\n",
       "      <th>Name</th>\n",
       "      <th></th>\n",
       "      <th></th>\n",
       "      <th></th>\n",
       "      <th></th>\n",
       "      <th></th>\n",
       "      <th></th>\n",
       "    </tr>\n",
       "  </thead>\n",
       "  <tbody>\n",
       "    <tr>\n",
       "      <td>Flour 0</td>\n",
       "      <td>0.3</td>\n",
       "      <td>101.4</td>\n",
       "      <td>21.3</td>\n",
       "      <td>3.0</td>\n",
       "      <td>0.3</td>\n",
       "      <td>0.6</td>\n",
       "    </tr>\n",
       "    <tr>\n",
       "      <td>Flour 00</td>\n",
       "      <td>0.3</td>\n",
       "      <td>102.0</td>\n",
       "      <td>22.2</td>\n",
       "      <td>2.7</td>\n",
       "      <td>0.3</td>\n",
       "      <td>0.6</td>\n",
       "    </tr>\n",
       "    <tr>\n",
       "      <td>Whole wheat flour</td>\n",
       "      <td>0.3</td>\n",
       "      <td>108.6</td>\n",
       "      <td>21.3</td>\n",
       "      <td>3.6</td>\n",
       "      <td>0.6</td>\n",
       "      <td>2.1</td>\n",
       "    </tr>\n",
       "    <tr>\n",
       "      <td>Potatoes</td>\n",
       "      <td>2.0</td>\n",
       "      <td>220.0</td>\n",
       "      <td>52.0</td>\n",
       "      <td>6.0</td>\n",
       "      <td>0.0</td>\n",
       "      <td>4.0</td>\n",
       "    </tr>\n",
       "    <tr>\n",
       "      <td>Pasta</td>\n",
       "      <td>1.2</td>\n",
       "      <td>421.2</td>\n",
       "      <td>84.0</td>\n",
       "      <td>16.8</td>\n",
       "      <td>1.2</td>\n",
       "      <td>3.6</td>\n",
       "    </tr>\n",
       "  </tbody>\n",
       "</table>\n",
       "</div>"
      ],
      "text/plain": [
       "                   Portion_size_g  Calories_per_portion  Carbs_per_portion  \\\n",
       "Name                                                                         \n",
       "Flour 0                       0.3                 101.4               21.3   \n",
       "Flour 00                      0.3                 102.0               22.2   \n",
       "Whole wheat flour             0.3                 108.6               21.3   \n",
       "Potatoes                      2.0                 220.0               52.0   \n",
       "Pasta                         1.2                 421.2               84.0   \n",
       "\n",
       "                   Protein_per_portion  Fat_per_portion  Fiber_per_portion  \n",
       "Name                                                                        \n",
       "Flour 0                            3.0              0.3                0.6  \n",
       "Flour 00                           2.7              0.3                0.6  \n",
       "Whole wheat flour                  3.6              0.6                2.1  \n",
       "Potatoes                           6.0              0.0                4.0  \n",
       "Pasta                             16.8              1.2                3.6  "
      ]
     },
     "metadata": {},
     "output_type": "display_data"
    }
   ],
   "source": [
    "for column in columns:\n",
    "    solid_foods_portion[column + '_per_portion'] = solid_foods_portion[column] * solid_foods_portion['Portion_size_g']\n",
    "    solid_foods_portion.drop(column, axis=1, inplace=True)\n",
    "    \n",
    "display(solid_foods_portion.head())"
   ]
  },
  {
   "cell_type": "code",
   "execution_count": 196,
   "metadata": {},
   "outputs": [
    {
     "data": {
      "image/png": "[encoded data removed]",
      "text/plain": [
       "<Figure size 432x288 with 1 Axes>"
      ]
     },
     "metadata": {
      "needs_background": "light"
     },
     "output_type": "display_data"
    }
   ],
   "source": [
    "alpha=0.6\n",
    "fig, ax = plt.subplots(sharey=True)\n",
    "ax.set(title='Caloric value vs. amount of macronutrients per portion of food', \n",
    "       ylabel='kcal per portion', \n",
    "       xlabel='Macronutrients per portion (g)')\n",
    "ax1 = ax.scatter(x='Protein_per_portion', y='Calories_per_portion', data=solid_foods_portion, alpha=alpha)\n",
    "ax2 = ax.scatter(x='Carbs_per_portion', y='Calories_per_portion', data=solid_foods_portion, alpha=alpha)\n",
    "ax3 = ax.scatter(x='Fat_per_portion', y='Calories_per_portion', data=solid_foods_portion, alpha=alpha)\n",
    "\n",
    "ax.legend((ax1, ax2, ax3), ('Proteins_per_portion', 'Carbohydrates_per_portion', 'Fats_per_portion'))\n",
    "plt.show()"
   ]
  },
  {
   "cell_type": "code",
   "execution_count": 213,
   "metadata": {},
   "outputs": [
    {
     "data": {
      "image/png": "[encoded data removed]",
      "text/plain": [
       "<Figure size 432x288 with 1 Axes>"
      ]
     },
     "metadata": {
      "needs_background": "light"
     },
     "output_type": "display_data"
    },
    {
     "data": {
      "image/png": "[encoded data removed]",
      "text/plain": [
       "<Figure size 432x288 with 1 Axes>"
      ]
     },
     "metadata": {
      "needs_background": "light"
     },
     "output_type": "display_data"
    },
    {
     "data": {
      "image/png": "[encoded data removed]",
      "text/plain": [
       "<Figure size 432x288 with 1 Axes>"
      ]
     },
     "metadata": {
      "needs_background": "light"
     },
     "output_type": "display_data"
    },
    {
     "data": {
      "image/png": "[encoded data removed]",
      "text/plain": [
       "<Figure size 432x288 with 1 Axes>"
      ]
     },
     "metadata": {
      "needs_background": "light"
     },
     "output_type": "display_data"
    }
   ],
   "source": [
    "macronutrients_per_portion = {'Carbs_per_portion':'orange', 'Protein_per_portion':'blue', 'Fat_per_portion':'green', 'Fiber_per_portion':'red'}\n",
    "for m in macronutrients_per_portion.keys():\n",
    "    fig, ax = plt.subplots()\n",
    "    ax.set(title='Caloric value of '+m, \n",
    "       ylabel ='kcal per portion', \n",
    "       xlabel = m + ' (g)')\n",
    "    ax.scatter(x=m, y='Calories_per_portion', data=solid_foods_portion, color=macronutrients_per_portion[m], alpha=alpha)\n",
    "    #ax.plot(solid_foods['Carbs'], p_carbs[0]*solid_foods['Carbs'] + p_carbs[1], 'red', linewidth=0.7)\n",
    "    plt.show()"
   ]
  },
  {
   "cell_type": "markdown",
   "metadata": {},
   "source": [
    "Visualize the avocado: superfoods"
   ]
  }
 ],
 "metadata": {
  "kernelspec": {
   "display_name": "Python 3",
   "language": "python",
   "name": "python3"
  },
  "language_info": {
   "codemirror_mode": {
    "name": "ipython",
    "version": 3
   },
   "file_extension": ".py",
   "mimetype": "text/x-python",
   "name": "python",
   "nbconvert_exporter": "python",
   "pygments_lexer": "ipython3",
   "version": "3.7.4"
  }
 },
 "nbformat": 4,
 "nbformat_minor": 2
}
