{
 "cells": [
  {
   "cell_type": "markdown",
   "metadata": {},
   "source": [
    "# Analyzing nutritional values with Python\n",
    "\n",
    "**PROJECT STILL UNDER DEVELOPMENT**\n",
    "\n",
    "## Introduction\n",
    "\n",
    " - Aim: visual description of food in personal diet;\n",
    " - The dataset: fppds_dataset.csv, data I collected myself from packages or via online research, so to obtain a dataset tailored to my eatinh habits;\n",
    " - Prior expectations: clusterings and superfoods\n",
    " - Principle: only collect the data in the dataset, edit here\n",
    " - Disclaimer\n",
    "\n",
    "## To Do\n",
    "\n",
    " - Add categories, compare expectation vs reality\n",
    " \n",
    "## Structure\n",
    "\n",
    " 1. Introduction\n",
    " 2. Data processing: cleaning and editing\n",
    " 3. Analisi:\n",
    "   - distribution of macronutrients & fibers histograms\n",
    "   - analisis of macronutrient amount vs caloric value per 100g of food\n",
    "   - the derived estimation of caloric value for each gram of macronutrient (plots and Pearson's r)\n",
    "   - first impressions on clusters and food groups: comment superfoods, salads etc.\n",
    "   - analisis of macronutrient amount vs caloric value per portion of food\n",
    "   - pre labeled categories analisis, comment food groups (add olive oil)\n",
    " 4. Conclusions\n",
    "   "
   ]
  },
  {
   "cell_type": "code",
   "execution_count": 13,
   "metadata": {},
   "outputs": [
    {
     "data": {
      "application/javascript": [
       "IPython.OutputArea.prototype._should_scroll = function(lines) {\n",
       "    return false;\n",
       "}\n"
      ],
      "text/plain": [
       "<IPython.core.display.Javascript object>"
      ]
     },
     "metadata": {},
     "output_type": "display_data"
    }
   ],
   "source": [
    "%%javascript\n",
    "IPython.OutputArea.prototype._should_scroll = function(lines) {\n",
    "    return false;\n",
    "}"
   ]
  },
  {
   "cell_type": "markdown",
   "metadata": {},
   "source": [
    "## Exploring and cleaning the data"
   ]
  },
  {
   "cell_type": "markdown",
   "metadata": {},
   "source": [
    "The dietary information we intend to analise is in the foods_dataset.csv file. It contains most of the information depicted in nutritional value table stamped on food packages in general: in particular, it contains the amount of each macronutrient (i.e., carbohydrates, fats and proteins) per 100 g or 100 ml of food, besides the amount of fibers; the portion size (in percentage of 100 g or 100 ml); the package size of each product; its brand; and the source of information.\n",
    "\n",
    "As a general rule, I gave preference to information depicted on packages, and whenever these were not available, as it is the case for most of non processed foods, I consulted MyFitnesspal website.\n",
    "\n",
    "Another general rule I adopted was not editing the dataset, or doing it the least as possible. Therefore, missing information was kept blank, columns I initially intended to use, but that I eventually abandoned later where kept, and no number has been rounded or changed (besides setting decimal notation with a dot, instead of a comma) while filling the dataset. This policy has to motivations: first, and most importantly, by simply collecting and storing the data at a first stage, whitout intorducing any cleaning or editing at an early stage, helps protecting the data integrety and value; this is a habit I acquired from experimental physics. Second, this has also given me the occasion for doing some data cleaning with Python.\n",
    "\n",
    "We start by importing the dataframe, and with a following general surveing on it."
   ]
  },
  {
   "cell_type": "code",
   "execution_count": 14,
   "metadata": {
    "scrolled": true
   },
   "outputs": [
    {
     "data": {
      "text/html": [
       "<div>\n",
       "<style scoped>\n",
       "    .dataframe tbody tr th:only-of-type {\n",
       "        vertical-align: middle;\n",
       "    }\n",
       "\n",
       "    .dataframe tbody tr th {\n",
       "        vertical-align: top;\n",
       "    }\n",
       "\n",
       "    .dataframe thead th {\n",
       "        text-align: right;\n",
       "    }\n",
       "</style>\n",
       "<table border=\"1\" class=\"dataframe\">\n",
       "  <thead>\n",
       "    <tr style=\"text-align: right;\">\n",
       "      <th></th>\n",
       "      <th>Name</th>\n",
       "      <th>Category_1</th>\n",
       "      <th>Category_2</th>\n",
       "      <th>Portion_size_g</th>\n",
       "      <th>Portion_size_ml</th>\n",
       "      <th>Calories</th>\n",
       "      <th>Carbs</th>\n",
       "      <th>Fat</th>\n",
       "      <th>Protein</th>\n",
       "      <th>Fiber</th>\n",
       "      <th>Package_sz_g</th>\n",
       "      <th>Package_sz_ml</th>\n",
       "      <th>Source</th>\n",
       "      <th>Brand</th>\n",
       "      <th>Description</th>\n",
       "    </tr>\n",
       "  </thead>\n",
       "  <tbody>\n",
       "    <tr>\n",
       "      <td>0</td>\n",
       "      <td>Flour 0</td>\n",
       "      <td>0</td>\n",
       "      <td>NaN</td>\n",
       "      <td>0.3</td>\n",
       "      <td>NaN</td>\n",
       "      <td>338.0</td>\n",
       "      <td>71.0</td>\n",
       "      <td>1.0</td>\n",
       "      <td>10.0</td>\n",
       "      <td>2.5</td>\n",
       "      <td>1000.0</td>\n",
       "      <td>NaN</td>\n",
       "      <td>Package</td>\n",
       "      <td>Coop</td>\n",
       "      <td>Farina di grano tenero</td>\n",
       "    </tr>\n",
       "    <tr>\n",
       "      <td>1</td>\n",
       "      <td>Flour 00</td>\n",
       "      <td>0</td>\n",
       "      <td>NaN</td>\n",
       "      <td>0.3</td>\n",
       "      <td>NaN</td>\n",
       "      <td>340.0</td>\n",
       "      <td>74.0</td>\n",
       "      <td>1.0</td>\n",
       "      <td>9.0</td>\n",
       "      <td>2.0</td>\n",
       "      <td>1000.0</td>\n",
       "      <td>NaN</td>\n",
       "      <td>MyFitnesspal</td>\n",
       "      <td>Coop</td>\n",
       "      <td>NaN</td>\n",
       "    </tr>\n",
       "    <tr>\n",
       "      <td>2</td>\n",
       "      <td>Whole wheat flour</td>\n",
       "      <td>0</td>\n",
       "      <td>NaN</td>\n",
       "      <td>0.3</td>\n",
       "      <td>NaN</td>\n",
       "      <td>362.0</td>\n",
       "      <td>71.0</td>\n",
       "      <td>2.0</td>\n",
       "      <td>12.0</td>\n",
       "      <td>7.0</td>\n",
       "      <td>1000.0</td>\n",
       "      <td>NaN</td>\n",
       "      <td>MyFitnesspal</td>\n",
       "      <td>Coop Vivi verdi</td>\n",
       "      <td>NaN</td>\n",
       "    </tr>\n",
       "    <tr>\n",
       "      <td>3</td>\n",
       "      <td>Potatoes</td>\n",
       "      <td>0</td>\n",
       "      <td>NaN</td>\n",
       "      <td>2.0</td>\n",
       "      <td>NaN</td>\n",
       "      <td>110.0</td>\n",
       "      <td>26.0</td>\n",
       "      <td>0.0</td>\n",
       "      <td>3.0</td>\n",
       "      <td>2.0</td>\n",
       "      <td>NaN</td>\n",
       "      <td>NaN</td>\n",
       "      <td>MyFitnesspal</td>\n",
       "      <td>NaN</td>\n",
       "      <td>NaN</td>\n",
       "    </tr>\n",
       "    <tr>\n",
       "      <td>4</td>\n",
       "      <td>Pasta</td>\n",
       "      <td>0</td>\n",
       "      <td>NaN</td>\n",
       "      <td>1.2</td>\n",
       "      <td>NaN</td>\n",
       "      <td>351.0</td>\n",
       "      <td>70.0</td>\n",
       "      <td>1.0</td>\n",
       "      <td>14.0</td>\n",
       "      <td>3.0</td>\n",
       "      <td>500.0</td>\n",
       "      <td>NaN</td>\n",
       "      <td>MyFitnesspal</td>\n",
       "      <td>La Molisana</td>\n",
       "      <td>Spaghetti quadrati</td>\n",
       "    </tr>\n",
       "  </tbody>\n",
       "</table>\n",
       "</div>"
      ],
      "text/plain": [
       "                Name  Category_1  Category_2  Portion_size_g  Portion_size_ml  \\\n",
       "0            Flour 0           0         NaN             0.3              NaN   \n",
       "1           Flour 00           0         NaN             0.3              NaN   \n",
       "2  Whole wheat flour           0         NaN             0.3              NaN   \n",
       "3           Potatoes           0         NaN             2.0              NaN   \n",
       "4              Pasta           0         NaN             1.2              NaN   \n",
       "\n",
       "   Calories  Carbs  Fat  Protein  Fiber  Package_sz_g  Package_sz_ml  \\\n",
       "0     338.0   71.0  1.0     10.0    2.5        1000.0            NaN   \n",
       "1     340.0   74.0  1.0      9.0    2.0        1000.0            NaN   \n",
       "2     362.0   71.0  2.0     12.0    7.0        1000.0            NaN   \n",
       "3     110.0   26.0  0.0      3.0    2.0           NaN            NaN   \n",
       "4     351.0   70.0  1.0     14.0    3.0         500.0            NaN   \n",
       "\n",
       "         Source            Brand             Description  \n",
       "0       Package             Coop  Farina di grano tenero  \n",
       "1  MyFitnesspal             Coop                     NaN  \n",
       "2  MyFitnesspal  Coop Vivi verdi                     NaN  \n",
       "3  MyFitnesspal              NaN                     NaN  \n",
       "4  MyFitnesspal      La Molisana     Spaghetti quadrati   "
      ]
     },
     "metadata": {},
     "output_type": "display_data"
    },
    {
     "name": "stdout",
     "output_type": "stream",
     "text": [
      "<class 'pandas.core.frame.DataFrame'>\n",
      "RangeIndex: 135 entries, 0 to 134\n",
      "Data columns (total 15 columns):\n",
      "Name               135 non-null object\n",
      "Category_1         135 non-null int64\n",
      "Category_2         0 non-null float64\n",
      "Portion_size_g     128 non-null float64\n",
      "Portion_size_ml    3 non-null float64\n",
      "Calories           134 non-null float64\n",
      "Carbs              133 non-null float64\n",
      "Fat                133 non-null float64\n",
      "Protein            134 non-null float64\n",
      "Fiber              67 non-null float64\n",
      "Package_sz_g       32 non-null float64\n",
      "Package_sz_ml      6 non-null float64\n",
      "Source             134 non-null object\n",
      "Brand              53 non-null object\n",
      "Description        77 non-null object\n",
      "dtypes: float64(10), int64(1), object(4)\n",
      "memory usage: 15.9+ KB\n"
     ]
    },
    {
     "data": {
      "text/plain": [
       "None"
      ]
     },
     "metadata": {},
     "output_type": "display_data"
    }
   ],
   "source": [
    "%matplotlib inline\n",
    "\n",
    "import pandas as pd\n",
    "\n",
    "dataset = 'foods_dataset.csv'\n",
    "df = pd.read_csv(dataset)\n",
    "\n",
    "display(df.head())\n",
    "display(df.info())"
   ]
  },
  {
   "cell_type": "markdown",
   "metadata": {},
   "source": [
    "Column 'Category_2' is empty. While on the 'Category_1' column we have labelled each food according to some priorly conceived categories such as legumes, vegetables, meat and carbohydrates-rich foods (details below), 'Category_2' would then create space for possible subcategories: For instance, carbohydrates-rich foods could have been divided into wheat product, rices and potatoes. This further classification, however, represented an excessive detailing level, and quite many classification sets ended up with only or or two elements. Although this does not mean it may not be interesting to differentiate between lamb and pork, or wheat and potatoes already at the macronutrients level, this would go beyond the scope of this part of this project, which would be to consider the collective characterization of certain food groups.\n",
    "\n",
    "The column 'Portion_size_ml' is pretty much empty too. This column also works as a discrimant between solid foods, whose values are given w.r.t. 100 g of food, and liquid ones, such as milk, wine and olive oil, with the respective values given per 100 ml. \n",
    "\n",
    "There are missing values for Calories, Carbs, Fat, Protein and Fibers also.\n",
    "\n",
    "Next we select the columns we will analyze, and fix the missing data."
   ]
  },
  {
   "cell_type": "markdown",
   "metadata": {},
   "source": [
    "### Slicing the dataframe and cleaning the data"
   ]
  },
  {
   "cell_type": "markdown",
   "metadata": {},
   "source": [
    "We shall first select the columns of the dataframe df which we are interested in: the foods' names, the amounts of macronutrients and fibers, and 'Package_sz_ml', so as to use the latter as a classification parameter between solid and liquid foods."
   ]
  },
  {
   "cell_type": "code",
   "execution_count": 15,
   "metadata": {
    "scrolled": true
   },
   "outputs": [
    {
     "name": "stdout",
     "output_type": "stream",
     "text": [
      "<class 'pandas.core.frame.DataFrame'>\n",
      "RangeIndex: 135 entries, 0 to 134\n",
      "Data columns (total 9 columns):\n",
      "Name              135 non-null object\n",
      "Category_1        135 non-null category\n",
      "Calories          134 non-null float64\n",
      "Carbs             133 non-null float64\n",
      "Fat               133 non-null float64\n",
      "Protein           134 non-null float64\n",
      "Fiber             67 non-null float64\n",
      "Package_sz_ml     6 non-null float64\n",
      "Category_names    135 non-null category\n",
      "dtypes: category(2), float64(6), object(1)\n",
      "memory usage: 8.6+ KB\n"
     ]
    },
    {
     "name": "stderr",
     "output_type": "stream",
     "text": [
      "C:\\Users\\joaob\\Anaconda3\\lib\\site-packages\\ipykernel_launcher.py:5: SettingWithCopyWarning: \n",
      "A value is trying to be set on a copy of a slice from a DataFrame.\n",
      "Try using .loc[row_indexer,col_indexer] = value instead\n",
      "\n",
      "See the caveats in the documentation: http://pandas.pydata.org/pandas-docs/stable/user_guide/indexing.html#returning-a-view-versus-a-copy\n",
      "  \"\"\"\n",
      "C:\\Users\\joaob\\Anaconda3\\lib\\site-packages\\ipykernel_launcher.py:15: SettingWithCopyWarning: \n",
      "A value is trying to be set on a copy of a slice from a DataFrame.\n",
      "Try using .loc[row_indexer,col_indexer] = value instead\n",
      "\n",
      "See the caveats in the documentation: http://pandas.pydata.org/pandas-docs/stable/user_guide/indexing.html#returning-a-view-versus-a-copy\n",
      "  from ipykernel import kernelapp as app\n"
     ]
    },
    {
     "data": {
      "text/plain": [
       "None"
      ]
     },
     "metadata": {},
     "output_type": "display_data"
    },
    {
     "data": {
      "text/html": [
       "<div>\n",
       "<style scoped>\n",
       "    .dataframe tbody tr th:only-of-type {\n",
       "        vertical-align: middle;\n",
       "    }\n",
       "\n",
       "    .dataframe tbody tr th {\n",
       "        vertical-align: top;\n",
       "    }\n",
       "\n",
       "    .dataframe thead th {\n",
       "        text-align: right;\n",
       "    }\n",
       "</style>\n",
       "<table border=\"1\" class=\"dataframe\">\n",
       "  <thead>\n",
       "    <tr style=\"text-align: right;\">\n",
       "      <th></th>\n",
       "      <th>Name</th>\n",
       "      <th>Category_1</th>\n",
       "      <th>Calories</th>\n",
       "      <th>Carbs</th>\n",
       "      <th>Fat</th>\n",
       "      <th>Protein</th>\n",
       "      <th>Fiber</th>\n",
       "      <th>Package_sz_ml</th>\n",
       "      <th>Category_names</th>\n",
       "    </tr>\n",
       "  </thead>\n",
       "  <tbody>\n",
       "    <tr>\n",
       "      <td>0</td>\n",
       "      <td>Flour 0</td>\n",
       "      <td>0</td>\n",
       "      <td>338.0</td>\n",
       "      <td>71.0</td>\n",
       "      <td>1.0</td>\n",
       "      <td>10.0</td>\n",
       "      <td>2.5</td>\n",
       "      <td>NaN</td>\n",
       "      <td>Wheats, rices, potatoes and similar</td>\n",
       "    </tr>\n",
       "    <tr>\n",
       "      <td>1</td>\n",
       "      <td>Flour 00</td>\n",
       "      <td>0</td>\n",
       "      <td>340.0</td>\n",
       "      <td>74.0</td>\n",
       "      <td>1.0</td>\n",
       "      <td>9.0</td>\n",
       "      <td>2.0</td>\n",
       "      <td>NaN</td>\n",
       "      <td>Wheats, rices, potatoes and similar</td>\n",
       "    </tr>\n",
       "    <tr>\n",
       "      <td>2</td>\n",
       "      <td>Whole wheat flour</td>\n",
       "      <td>0</td>\n",
       "      <td>362.0</td>\n",
       "      <td>71.0</td>\n",
       "      <td>2.0</td>\n",
       "      <td>12.0</td>\n",
       "      <td>7.0</td>\n",
       "      <td>NaN</td>\n",
       "      <td>Wheats, rices, potatoes and similar</td>\n",
       "    </tr>\n",
       "    <tr>\n",
       "      <td>3</td>\n",
       "      <td>Potatoes</td>\n",
       "      <td>0</td>\n",
       "      <td>110.0</td>\n",
       "      <td>26.0</td>\n",
       "      <td>0.0</td>\n",
       "      <td>3.0</td>\n",
       "      <td>2.0</td>\n",
       "      <td>NaN</td>\n",
       "      <td>Wheats, rices, potatoes and similar</td>\n",
       "    </tr>\n",
       "    <tr>\n",
       "      <td>4</td>\n",
       "      <td>Pasta</td>\n",
       "      <td>0</td>\n",
       "      <td>351.0</td>\n",
       "      <td>70.0</td>\n",
       "      <td>1.0</td>\n",
       "      <td>14.0</td>\n",
       "      <td>3.0</td>\n",
       "      <td>NaN</td>\n",
       "      <td>Wheats, rices, potatoes and similar</td>\n",
       "    </tr>\n",
       "  </tbody>\n",
       "</table>\n",
       "</div>"
      ],
      "text/plain": [
       "                Name Category_1  Calories  Carbs  Fat  Protein  Fiber  \\\n",
       "0            Flour 0          0     338.0   71.0  1.0     10.0    2.5   \n",
       "1           Flour 00          0     340.0   74.0  1.0      9.0    2.0   \n",
       "2  Whole wheat flour          0     362.0   71.0  2.0     12.0    7.0   \n",
       "3           Potatoes          0     110.0   26.0  0.0      3.0    2.0   \n",
       "4              Pasta          0     351.0   70.0  1.0     14.0    3.0   \n",
       "\n",
       "   Package_sz_ml                       Category_names  \n",
       "0            NaN  Wheats, rices, potatoes and similar  \n",
       "1            NaN  Wheats, rices, potatoes and similar  \n",
       "2            NaN  Wheats, rices, potatoes and similar  \n",
       "3            NaN  Wheats, rices, potatoes and similar  \n",
       "4            NaN  Wheats, rices, potatoes and similar  "
      ]
     },
     "metadata": {},
     "output_type": "display_data"
    }
   ],
   "source": [
    "# Slice columns containing food names, nutritional values and 'Package_sz_ml'\n",
    "nutr_value = df[['Name', 'Category_1','Calories', 'Carbs', 'Fat', 'Protein', 'Fiber', 'Package_sz_ml']]\n",
    "\n",
    "#Set 'Category_1' as category:\n",
    "nutr_value['Category_1'] = nutr_value['Category_1'].astype('category', copy=False)\n",
    "\n",
    "# Create a disctionary to interpret the labels in 'Category_1'\n",
    "categories_dict = {0: 'Wheats, rices, potatoes and similar', 1:'Meats', 2:'Legumes', 3:'Fruits & vegetables', 4:'Salads & leaves', \n",
    "                   5:'Seeds, nuts & cereals', 6:'Sweets', 7:'Eggs & milk products', 8:'Fats', 9:'Other'}\n",
    "\n",
    "# Just checking:\n",
    "# display(categories_dict)\n",
    "\n",
    "# Create new column from caterories_dict values; this will make plotting the information easier\n",
    "nutr_value['Category_names'] = nutr_value[\"Category_1\"].map(categories_dict)\n",
    "\n",
    "# Just checking:\n",
    "display(nutr_value.info())\n",
    "display(nutr_value.head())\n"
   ]
  },
  {
   "cell_type": "markdown",
   "metadata": {},
   "source": [
    "Next we clean the missing data."
   ]
  },
  {
   "cell_type": "code",
   "execution_count": 16,
   "metadata": {
    "scrolled": true
   },
   "outputs": [
    {
     "data": {
      "text/plain": [
       "Name                0\n",
       "Category_1          0\n",
       "Calories            1\n",
       "Carbs               2\n",
       "Fat                 2\n",
       "Protein             1\n",
       "Fiber              68\n",
       "Package_sz_ml     129\n",
       "Category_names      0\n",
       "dtype: int64"
      ]
     },
     "metadata": {},
     "output_type": "display_data"
    }
   ],
   "source": [
    "# Count missing entries\n",
    "display(nutr_value.isnull().sum()) \n"
   ]
  },
  {
   "cell_type": "markdown",
   "metadata": {},
   "source": [
    "There are a few rows with missing values for calories, carbohydtares, fats and proteins, but many with missing values for fibers. This may be mainly because packaged foods with a low or null amount of fibers, instead of displaying the number 0 for fibers in their nutritional values table, do not present any data at all for this feature. Therefore, we shall later subsitute missing entries for fibers with zero. As for carbohydrates, fats and proteins, it is important to specifically see which are the foods with missing data.\n",
    "\n",
    "Since there is no missing data in the Name column and in order to facilitate handling the data, we set it as index."
   ]
  },
  {
   "cell_type": "code",
   "execution_count": 17,
   "metadata": {},
   "outputs": [
    {
     "data": {
      "text/html": [
       "<div>\n",
       "<style scoped>\n",
       "    .dataframe tbody tr th:only-of-type {\n",
       "        vertical-align: middle;\n",
       "    }\n",
       "\n",
       "    .dataframe tbody tr th {\n",
       "        vertical-align: top;\n",
       "    }\n",
       "\n",
       "    .dataframe thead th {\n",
       "        text-align: right;\n",
       "    }\n",
       "</style>\n",
       "<table border=\"1\" class=\"dataframe\">\n",
       "  <thead>\n",
       "    <tr style=\"text-align: right;\">\n",
       "      <th></th>\n",
       "      <th>Name</th>\n",
       "      <th>Category_1</th>\n",
       "      <th>Calories</th>\n",
       "      <th>Carbs</th>\n",
       "      <th>Fat</th>\n",
       "      <th>Protein</th>\n",
       "      <th>Fiber</th>\n",
       "      <th>Package_sz_ml</th>\n",
       "      <th>Category_names</th>\n",
       "    </tr>\n",
       "  </thead>\n",
       "  <tbody>\n",
       "    <tr>\n",
       "      <td>85</td>\n",
       "      <td>Oister</td>\n",
       "      <td>1</td>\n",
       "      <td>NaN</td>\n",
       "      <td>NaN</td>\n",
       "      <td>NaN</td>\n",
       "      <td>NaN</td>\n",
       "      <td>0.0</td>\n",
       "      <td>NaN</td>\n",
       "      <td>Meats</td>\n",
       "    </tr>\n",
       "  </tbody>\n",
       "</table>\n",
       "</div>"
      ],
      "text/plain": [
       "      Name Category_1  Calories  Carbs  Fat  Protein  Fiber  Package_sz_ml  \\\n",
       "85  Oister          1       NaN    NaN  NaN      NaN    0.0            NaN   \n",
       "\n",
       "   Category_names  \n",
       "85          Meats  "
      ]
     },
     "metadata": {},
     "output_type": "display_data"
    },
    {
     "data": {
      "text/html": [
       "<div>\n",
       "<style scoped>\n",
       "    .dataframe tbody tr th:only-of-type {\n",
       "        vertical-align: middle;\n",
       "    }\n",
       "\n",
       "    .dataframe tbody tr th {\n",
       "        vertical-align: top;\n",
       "    }\n",
       "\n",
       "    .dataframe thead th {\n",
       "        text-align: right;\n",
       "    }\n",
       "</style>\n",
       "<table border=\"1\" class=\"dataframe\">\n",
       "  <thead>\n",
       "    <tr style=\"text-align: right;\">\n",
       "      <th></th>\n",
       "      <th>Name</th>\n",
       "      <th>Category_1</th>\n",
       "      <th>Calories</th>\n",
       "      <th>Carbs</th>\n",
       "      <th>Fat</th>\n",
       "      <th>Protein</th>\n",
       "      <th>Fiber</th>\n",
       "      <th>Package_sz_ml</th>\n",
       "      <th>Category_names</th>\n",
       "    </tr>\n",
       "  </thead>\n",
       "  <tbody>\n",
       "    <tr>\n",
       "      <td>82</td>\n",
       "      <td>Lamb brain</td>\n",
       "      <td>1</td>\n",
       "      <td>122.0</td>\n",
       "      <td>NaN</td>\n",
       "      <td>9.0</td>\n",
       "      <td>10.0</td>\n",
       "      <td>0.0</td>\n",
       "      <td>NaN</td>\n",
       "      <td>Meats</td>\n",
       "    </tr>\n",
       "    <tr>\n",
       "      <td>85</td>\n",
       "      <td>Oister</td>\n",
       "      <td>1</td>\n",
       "      <td>NaN</td>\n",
       "      <td>NaN</td>\n",
       "      <td>NaN</td>\n",
       "      <td>NaN</td>\n",
       "      <td>0.0</td>\n",
       "      <td>NaN</td>\n",
       "      <td>Meats</td>\n",
       "    </tr>\n",
       "  </tbody>\n",
       "</table>\n",
       "</div>"
      ],
      "text/plain": [
       "          Name Category_1  Calories  Carbs  Fat  Protein  Fiber  \\\n",
       "82  Lamb brain          1     122.0    NaN  9.0     10.0    0.0   \n",
       "85      Oister          1       NaN    NaN  NaN      NaN    0.0   \n",
       "\n",
       "    Package_sz_ml Category_names  \n",
       "82            NaN          Meats  \n",
       "85            NaN          Meats  "
      ]
     },
     "metadata": {},
     "output_type": "display_data"
    },
    {
     "data": {
      "text/html": [
       "<div>\n",
       "<style scoped>\n",
       "    .dataframe tbody tr th:only-of-type {\n",
       "        vertical-align: middle;\n",
       "    }\n",
       "\n",
       "    .dataframe tbody tr th {\n",
       "        vertical-align: top;\n",
       "    }\n",
       "\n",
       "    .dataframe thead th {\n",
       "        text-align: right;\n",
       "    }\n",
       "</style>\n",
       "<table border=\"1\" class=\"dataframe\">\n",
       "  <thead>\n",
       "    <tr style=\"text-align: right;\">\n",
       "      <th></th>\n",
       "      <th>Name</th>\n",
       "      <th>Category_1</th>\n",
       "      <th>Calories</th>\n",
       "      <th>Carbs</th>\n",
       "      <th>Fat</th>\n",
       "      <th>Protein</th>\n",
       "      <th>Fiber</th>\n",
       "      <th>Package_sz_ml</th>\n",
       "      <th>Category_names</th>\n",
       "    </tr>\n",
       "  </thead>\n",
       "  <tbody>\n",
       "    <tr>\n",
       "      <td>44</td>\n",
       "      <td>Nectarine</td>\n",
       "      <td>3</td>\n",
       "      <td>44.0</td>\n",
       "      <td>11.0</td>\n",
       "      <td>NaN</td>\n",
       "      <td>1.0</td>\n",
       "      <td>2.0</td>\n",
       "      <td>NaN</td>\n",
       "      <td>Fruits &amp; vegetables</td>\n",
       "    </tr>\n",
       "    <tr>\n",
       "      <td>85</td>\n",
       "      <td>Oister</td>\n",
       "      <td>1</td>\n",
       "      <td>NaN</td>\n",
       "      <td>NaN</td>\n",
       "      <td>NaN</td>\n",
       "      <td>NaN</td>\n",
       "      <td>0.0</td>\n",
       "      <td>NaN</td>\n",
       "      <td>Meats</td>\n",
       "    </tr>\n",
       "  </tbody>\n",
       "</table>\n",
       "</div>"
      ],
      "text/plain": [
       "         Name Category_1  Calories  Carbs  Fat  Protein  Fiber  Package_sz_ml  \\\n",
       "44  Nectarine          3      44.0   11.0  NaN      1.0    2.0            NaN   \n",
       "85     Oister          1       NaN    NaN  NaN      NaN    0.0            NaN   \n",
       "\n",
       "         Category_names  \n",
       "44  Fruits & vegetables  \n",
       "85                Meats  "
      ]
     },
     "metadata": {},
     "output_type": "display_data"
    },
    {
     "data": {
      "text/html": [
       "<div>\n",
       "<style scoped>\n",
       "    .dataframe tbody tr th:only-of-type {\n",
       "        vertical-align: middle;\n",
       "    }\n",
       "\n",
       "    .dataframe tbody tr th {\n",
       "        vertical-align: top;\n",
       "    }\n",
       "\n",
       "    .dataframe thead th {\n",
       "        text-align: right;\n",
       "    }\n",
       "</style>\n",
       "<table border=\"1\" class=\"dataframe\">\n",
       "  <thead>\n",
       "    <tr style=\"text-align: right;\">\n",
       "      <th></th>\n",
       "      <th>Name</th>\n",
       "      <th>Category_1</th>\n",
       "      <th>Calories</th>\n",
       "      <th>Carbs</th>\n",
       "      <th>Fat</th>\n",
       "      <th>Protein</th>\n",
       "      <th>Fiber</th>\n",
       "      <th>Package_sz_ml</th>\n",
       "      <th>Category_names</th>\n",
       "    </tr>\n",
       "  </thead>\n",
       "  <tbody>\n",
       "    <tr>\n",
       "      <td>85</td>\n",
       "      <td>Oister</td>\n",
       "      <td>1</td>\n",
       "      <td>NaN</td>\n",
       "      <td>NaN</td>\n",
       "      <td>NaN</td>\n",
       "      <td>NaN</td>\n",
       "      <td>0.0</td>\n",
       "      <td>NaN</td>\n",
       "      <td>Meats</td>\n",
       "    </tr>\n",
       "  </tbody>\n",
       "</table>\n",
       "</div>"
      ],
      "text/plain": [
       "      Name Category_1  Calories  Carbs  Fat  Protein  Fiber  Package_sz_ml  \\\n",
       "85  Oister          1       NaN    NaN  NaN      NaN    0.0            NaN   \n",
       "\n",
       "   Category_names  \n",
       "85          Meats  "
      ]
     },
     "metadata": {},
     "output_type": "display_data"
    },
    {
     "data": {
      "text/plain": [
       "Index(['Flour 0', 'Flour 00', 'Whole wheat flour', 'Potatoes', 'Pasta',\n",
       "       'Carnaroli rice', 'Basmati rice', 'Manioc flour', 'Couscous', 'Orzo',\n",
       "       ...\n",
       "       'Champignon', 'Porcini', 'Tangerine', 'Strawberry', 'Cherry',\n",
       "       'Chestnut', 'Hazelnut', 'Olive', 'Pizza margheritta', 'Polenta'],\n",
       "      dtype='object', name='Name', length=135)"
      ]
     },
     "execution_count": 17,
     "metadata": {},
     "output_type": "execute_result"
    }
   ],
   "source": [
    "nutr_value['Fiber'].fillna(0, inplace=True)\n",
    "\n",
    "display(nutr_value[nutr_value['Calories'].isnull()])\n",
    "display(nutr_value[nutr_value['Carbs'].isnull()])\n",
    "display(nutr_value[nutr_value['Fat'].isnull()])\n",
    "display(nutr_value[nutr_value['Protein'].isnull()])\n",
    "\n",
    "# set Name column as index\n",
    "nutr_value = nutr_value.set_index('Name')\n",
    "nutr_value.index"
   ]
  },
  {
   "cell_type": "markdown",
   "metadata": {},
   "source": [
    "Hence, the 'Oister' row is completely empty, whereas 'Lamb brain' and 'Nectarine' present missing values of carbohydrates and fats, respectively.\n",
    "\n",
    "Since oister are not a very important part of my diet (I wish!), and I have actually eaten it only once and a long time ago, it is not worthy the effort of searching for their nutritional values online. Instead, we may just erase the row.\n",
    "\n",
    "Lamb brain, however, is something I sometimes eat, and something I do appreciate, thus it may be worthy to search for the missing value on the internet. It turns out that its carbohydrates content per 100g is very low, so we may set it as zero. \n",
    "\n",
    "The fat amount in nectarine, on the other hand, we set to be equal to the equivalent number for yellow peaches, since these are very similar fruits."
   ]
  },
  {
   "cell_type": "code",
   "execution_count": 18,
   "metadata": {
    "scrolled": true
   },
   "outputs": [
    {
     "data": {
      "text/plain": [
       "(134, 8)"
      ]
     },
     "metadata": {},
     "output_type": "display_data"
    },
    {
     "data": {
      "text/plain": [
       "Category_1          0\n",
       "Calories            0\n",
       "Carbs               0\n",
       "Fat                 0\n",
       "Protein             0\n",
       "Fiber               0\n",
       "Package_sz_ml     128\n",
       "Category_names      0\n",
       "dtype: int64"
      ]
     },
     "metadata": {},
     "output_type": "display_data"
    }
   ],
   "source": [
    "# Drop Oister row & check\n",
    "nutr_value.drop('Oister', axis=0, inplace=True)\n",
    "display(nutr_value.shape)\n",
    "\n",
    "# Set carbohydrates value in Lamb brain to 0 & fat amount in Nectarine as the same for peaches\n",
    "nutr_value.loc['Lamb brain', 'Carbs'] = 0\n",
    "nutr_value.loc['Nectarine', 'Fat'] = nutr_value.loc['Yellow peach', 'Fat']\n",
    "\n",
    "# Check again\n",
    "display(nutr_value.isnull().sum())\n"
   ]
  },
  {
   "cell_type": "markdown",
   "metadata": {},
   "source": [
    "### Dealing with data with different precisions\n",
    "\n",
    "Some food packages display very precise nutritional values, with up to two decimal values. Most of them, however, present only integer values, which I presume are rounded approximations. In general, different sources of information used in the construction of the dataset ```'foods_dataset.csv'``` present values with different precision. In order to compare nutritional values of foods throughout the dataset, we shall round decimal values to integers. This approximation will not compromise the analysis in this project, as total daily consuption values of each macronutrient present a very small sensitiveness to relative precisions of order $10^{-1}$ or $ 10^{-2}$ in individual data. One could argue that such small values could add up significantly, but then we would be left with two choices: Either the information extracted from dozens of nutritional value tables, and already pre rounded by the manufecturer, is not precise enough, as minor approximations could impact on the analisis of daily consumptions -- and thus we would have to collect better data somehow; or individual relative precisions of those orders may be neglected.\n",
    "\n",
    "(Measuring the effect of neglecting lower order values when dealing with daily consumptions could also be part if this analisis. For the time being, as manufacturers often round the values depicted on packages, we shall not further address this topic).\n",
    "\n",
    "We first introduce a function, ```check_for_decimals```, that returns the relative number of decimal values in certain columns of a dataframe."
   ]
  },
  {
   "cell_type": "code",
   "execution_count": 19,
   "metadata": {},
   "outputs": [
    {
     "data": {
      "text/plain": [
       "{'Calories': 0, 'Carbs': 0.25, 'Protein': 0.17, 'Fat': 0.5, 'Fiber': 0.25}"
      ]
     },
     "metadata": {},
     "output_type": "display_data"
    },
    {
     "data": {
      "text/plain": [
       "{'Calories': 0, 'Carbs': 0, 'Protein': 0, 'Fat': 0, 'Fiber': 0}"
      ]
     },
     "metadata": {},
     "output_type": "display_data"
    },
    {
     "data": {
      "text/html": [
       "<div>\n",
       "<style scoped>\n",
       "    .dataframe tbody tr th:only-of-type {\n",
       "        vertical-align: middle;\n",
       "    }\n",
       "\n",
       "    .dataframe tbody tr th {\n",
       "        vertical-align: top;\n",
       "    }\n",
       "\n",
       "    .dataframe thead th {\n",
       "        text-align: right;\n",
       "    }\n",
       "</style>\n",
       "<table border=\"1\" class=\"dataframe\">\n",
       "  <thead>\n",
       "    <tr style=\"text-align: right;\">\n",
       "      <th></th>\n",
       "      <th>Category_1</th>\n",
       "      <th>Calories</th>\n",
       "      <th>Carbs</th>\n",
       "      <th>Fat</th>\n",
       "      <th>Protein</th>\n",
       "      <th>Fiber</th>\n",
       "      <th>Package_sz_ml</th>\n",
       "      <th>Category_names</th>\n",
       "    </tr>\n",
       "    <tr>\n",
       "      <th>Name</th>\n",
       "      <th></th>\n",
       "      <th></th>\n",
       "      <th></th>\n",
       "      <th></th>\n",
       "      <th></th>\n",
       "      <th></th>\n",
       "      <th></th>\n",
       "      <th></th>\n",
       "    </tr>\n",
       "  </thead>\n",
       "  <tbody>\n",
       "    <tr>\n",
       "      <td>Flour 0</td>\n",
       "      <td>0</td>\n",
       "      <td>338.0</td>\n",
       "      <td>71.0</td>\n",
       "      <td>1.0</td>\n",
       "      <td>10.0</td>\n",
       "      <td>2.0</td>\n",
       "      <td>NaN</td>\n",
       "      <td>Wheats, rices, potatoes and similar</td>\n",
       "    </tr>\n",
       "    <tr>\n",
       "      <td>Flour 00</td>\n",
       "      <td>0</td>\n",
       "      <td>340.0</td>\n",
       "      <td>74.0</td>\n",
       "      <td>1.0</td>\n",
       "      <td>9.0</td>\n",
       "      <td>2.0</td>\n",
       "      <td>NaN</td>\n",
       "      <td>Wheats, rices, potatoes and similar</td>\n",
       "    </tr>\n",
       "    <tr>\n",
       "      <td>Whole wheat flour</td>\n",
       "      <td>0</td>\n",
       "      <td>362.0</td>\n",
       "      <td>71.0</td>\n",
       "      <td>2.0</td>\n",
       "      <td>12.0</td>\n",
       "      <td>7.0</td>\n",
       "      <td>NaN</td>\n",
       "      <td>Wheats, rices, potatoes and similar</td>\n",
       "    </tr>\n",
       "    <tr>\n",
       "      <td>Potatoes</td>\n",
       "      <td>0</td>\n",
       "      <td>110.0</td>\n",
       "      <td>26.0</td>\n",
       "      <td>0.0</td>\n",
       "      <td>3.0</td>\n",
       "      <td>2.0</td>\n",
       "      <td>NaN</td>\n",
       "      <td>Wheats, rices, potatoes and similar</td>\n",
       "    </tr>\n",
       "    <tr>\n",
       "      <td>Pasta</td>\n",
       "      <td>0</td>\n",
       "      <td>351.0</td>\n",
       "      <td>70.0</td>\n",
       "      <td>1.0</td>\n",
       "      <td>14.0</td>\n",
       "      <td>3.0</td>\n",
       "      <td>NaN</td>\n",
       "      <td>Wheats, rices, potatoes and similar</td>\n",
       "    </tr>\n",
       "  </tbody>\n",
       "</table>\n",
       "</div>"
      ],
      "text/plain": [
       "                  Category_1  Calories  Carbs  Fat  Protein  Fiber  \\\n",
       "Name                                                                 \n",
       "Flour 0                    0     338.0   71.0  1.0     10.0    2.0   \n",
       "Flour 00                   0     340.0   74.0  1.0      9.0    2.0   \n",
       "Whole wheat flour          0     362.0   71.0  2.0     12.0    7.0   \n",
       "Potatoes                   0     110.0   26.0  0.0      3.0    2.0   \n",
       "Pasta                      0     351.0   70.0  1.0     14.0    3.0   \n",
       "\n",
       "                   Package_sz_ml                       Category_names  \n",
       "Name                                                                   \n",
       "Flour 0                      NaN  Wheats, rices, potatoes and similar  \n",
       "Flour 00                     NaN  Wheats, rices, potatoes and similar  \n",
       "Whole wheat flour            NaN  Wheats, rices, potatoes and similar  \n",
       "Potatoes                     NaN  Wheats, rices, potatoes and similar  \n",
       "Pasta                        NaN  Wheats, rices, potatoes and similar  "
      ]
     },
     "metadata": {},
     "output_type": "display_data"
    }
   ],
   "source": [
    "# define function check_for_decimals\n",
    "def check_for_decimals(data_frame, list_of_columns):\n",
    "    \"\"\"returns percentage of decimal values within columns of a data frame\"\"\"\n",
    "    number_of_decimals = dict.fromkeys(list_of_columns, 0) # Initialize dictionary with list_of_columns as keys and all values equal to 0\n",
    "    \n",
    "    # Count the number of decimal values in each column:\n",
    "    for column in list_of_columns: #loop over columns\n",
    "        for x in data_frame[column]: #loop over rows in the column\n",
    "            if x.is_integer() == False:\n",
    "                number_of_decimals[column] = round((number_of_decimals[column] + 1)/len(column), 2) # Adds 1 to the resp value in the dictionary, computes the percentage rounded to 2 decimals\n",
    "    return number_of_decimals\n",
    "\n",
    "# Applying the function to our context:\n",
    "\n",
    "# List of columns in nutr_value containing nutritional values of interest\n",
    "macros_columns = ['Calories', 'Carbs', 'Protein', 'Fat', 'Fiber']\n",
    "\n",
    "display(check_for_decimals(nutr_value, macros_columns)) # Relative number of decimal values within columns in nutr_value:\n",
    "\n",
    "#round nutr_values:\n",
    "nutr_value_round = nutr_value.round()\n",
    "\n",
    "#check:\n",
    "display(check_for_decimals(nutr_value_round, macros_columns))\n",
    "\n",
    "display(nutr_value_round.head())"
   ]
  },
  {
   "cell_type": "markdown",
   "metadata": {},
   "source": [
    "As mentioned above, the dataset contains foods whose nutritional values are estimated w.r.t. portions of either 100g or 100ml (for liquids). It is meaningless to compare foods belonging to different categories, and therefore we use the ```'Package_sz_ml'``` column in the dataframe as a filter, in order to consider only solid foods for now. An alternative would be searching for the density of each liquid, and derive its nutritional value for 100 g."
   ]
  },
  {
   "cell_type": "code",
   "execution_count": 20,
   "metadata": {
    "scrolled": true
   },
   "outputs": [
    {
     "name": "stdout",
     "output_type": "stream",
     "text": [
      "<class 'pandas.core.frame.DataFrame'>\n",
      "Index: 128 entries, Flour 0 to Polenta\n",
      "Data columns (total 7 columns):\n",
      "Category_1        128 non-null category\n",
      "Calories          128 non-null float64\n",
      "Carbs             128 non-null float64\n",
      "Fat               128 non-null float64\n",
      "Protein           128 non-null float64\n",
      "Fiber             128 non-null float64\n",
      "Category_names    128 non-null category\n",
      "dtypes: category(2), float64(5)\n",
      "memory usage: 7.0+ KB\n"
     ]
    },
    {
     "name": "stderr",
     "output_type": "stream",
     "text": [
      "C:\\Users\\joaob\\Anaconda3\\lib\\site-packages\\pandas\\core\\frame.py:4102: SettingWithCopyWarning: \n",
      "A value is trying to be set on a copy of a slice from a DataFrame\n",
      "\n",
      "See the caveats in the documentation: http://pandas.pydata.org/pandas-docs/stable/user_guide/indexing.html#returning-a-view-versus-a-copy\n",
      "  errors=errors,\n"
     ]
    },
    {
     "data": {
      "text/html": [
       "<div>\n",
       "<style scoped>\n",
       "    .dataframe tbody tr th:only-of-type {\n",
       "        vertical-align: middle;\n",
       "    }\n",
       "\n",
       "    .dataframe tbody tr th {\n",
       "        vertical-align: top;\n",
       "    }\n",
       "\n",
       "    .dataframe thead th {\n",
       "        text-align: right;\n",
       "    }\n",
       "</style>\n",
       "<table border=\"1\" class=\"dataframe\">\n",
       "  <thead>\n",
       "    <tr style=\"text-align: right;\">\n",
       "      <th></th>\n",
       "      <th>Category_1</th>\n",
       "      <th>Calories</th>\n",
       "      <th>Carbs</th>\n",
       "      <th>Fat</th>\n",
       "      <th>Protein</th>\n",
       "      <th>Fiber</th>\n",
       "      <th>Category_names</th>\n",
       "    </tr>\n",
       "    <tr>\n",
       "      <th>Name</th>\n",
       "      <th></th>\n",
       "      <th></th>\n",
       "      <th></th>\n",
       "      <th></th>\n",
       "      <th></th>\n",
       "      <th></th>\n",
       "      <th></th>\n",
       "    </tr>\n",
       "  </thead>\n",
       "  <tbody>\n",
       "    <tr>\n",
       "      <td>Flour 0</td>\n",
       "      <td>0</td>\n",
       "      <td>338.0</td>\n",
       "      <td>71.0</td>\n",
       "      <td>1.0</td>\n",
       "      <td>10.0</td>\n",
       "      <td>2.0</td>\n",
       "      <td>Wheats, rices, potatoes and similar</td>\n",
       "    </tr>\n",
       "    <tr>\n",
       "      <td>Flour 00</td>\n",
       "      <td>0</td>\n",
       "      <td>340.0</td>\n",
       "      <td>74.0</td>\n",
       "      <td>1.0</td>\n",
       "      <td>9.0</td>\n",
       "      <td>2.0</td>\n",
       "      <td>Wheats, rices, potatoes and similar</td>\n",
       "    </tr>\n",
       "    <tr>\n",
       "      <td>Whole wheat flour</td>\n",
       "      <td>0</td>\n",
       "      <td>362.0</td>\n",
       "      <td>71.0</td>\n",
       "      <td>2.0</td>\n",
       "      <td>12.0</td>\n",
       "      <td>7.0</td>\n",
       "      <td>Wheats, rices, potatoes and similar</td>\n",
       "    </tr>\n",
       "    <tr>\n",
       "      <td>Potatoes</td>\n",
       "      <td>0</td>\n",
       "      <td>110.0</td>\n",
       "      <td>26.0</td>\n",
       "      <td>0.0</td>\n",
       "      <td>3.0</td>\n",
       "      <td>2.0</td>\n",
       "      <td>Wheats, rices, potatoes and similar</td>\n",
       "    </tr>\n",
       "    <tr>\n",
       "      <td>Pasta</td>\n",
       "      <td>0</td>\n",
       "      <td>351.0</td>\n",
       "      <td>70.0</td>\n",
       "      <td>1.0</td>\n",
       "      <td>14.0</td>\n",
       "      <td>3.0</td>\n",
       "      <td>Wheats, rices, potatoes and similar</td>\n",
       "    </tr>\n",
       "  </tbody>\n",
       "</table>\n",
       "</div>"
      ],
      "text/plain": [
       "                  Category_1  Calories  Carbs  Fat  Protein  Fiber  \\\n",
       "Name                                                                 \n",
       "Flour 0                    0     338.0   71.0  1.0     10.0    2.0   \n",
       "Flour 00                   0     340.0   74.0  1.0      9.0    2.0   \n",
       "Whole wheat flour          0     362.0   71.0  2.0     12.0    7.0   \n",
       "Potatoes                   0     110.0   26.0  0.0      3.0    2.0   \n",
       "Pasta                      0     351.0   70.0  1.0     14.0    3.0   \n",
       "\n",
       "                                        Category_names  \n",
       "Name                                                    \n",
       "Flour 0            Wheats, rices, potatoes and similar  \n",
       "Flour 00           Wheats, rices, potatoes and similar  \n",
       "Whole wheat flour  Wheats, rices, potatoes and similar  \n",
       "Potatoes           Wheats, rices, potatoes and similar  \n",
       "Pasta              Wheats, rices, potatoes and similar  "
      ]
     },
     "execution_count": 20,
     "metadata": {},
     "output_type": "execute_result"
    }
   ],
   "source": [
    "# Select only solid foods from nutr_value dataframe:\n",
    "solid_foods = nutr_value_round[nutr_value_round['Package_sz_ml'].isnull() == True]\n",
    "solid_foods.drop('Package_sz_ml', axis=1, inplace=True)\n",
    "\n",
    "solid_foods.info()\n",
    "solid_foods.head()"
   ]
  },
  {
   "cell_type": "markdown",
   "metadata": {},
   "source": [
    "This completes this data processing section."
   ]
  },
  {
   "cell_type": "markdown",
   "metadata": {},
   "source": [
    "## Analisis of caloric and nutritional values of foods"
   ]
  },
  {
   "cell_type": "markdown",
   "metadata": {},
   "source": [
    "In the following, we consider multiple plots regarding caloric values and macronutrients and fibers amounts of foods in the dataset. In order to keep a standard  throughout the notebook, we create a dictionary assigning to each feature a color. This will then be used in the plots below."
   ]
  },
  {
   "cell_type": "code",
   "execution_count": 21,
   "metadata": {},
   "outputs": [
    {
     "name": "stdout",
     "output_type": "stream",
     "text": [
      "{'Calories': 'purple', 'Carbs': 'orange', 'Protein': 'blue', 'Fat': 'darkgreen', 'Fiber': 'red'}\n"
     ]
    }
   ],
   "source": [
    "colors = ['purple', 'orange', 'blue', 'darkgreen', 'red']\n",
    "macros_columns_dict = dict(zip(macros_columns, colors))\n",
    "print(macros_columns_dict)"
   ]
  },
  {
   "cell_type": "code",
   "execution_count": 24,
   "metadata": {},
   "outputs": [
    {
     "data": {
      "image/png": "[encoded data removed]",
      "text/plain": [
       "<Figure size 1080x1080 with 6 Axes>"
      ]
     },
     "metadata": {},
     "output_type": "display_data"
    }
   ],
   "source": [
    "import matplotlib.pyplot as plt\n",
    "import seaborn as sns\n",
    "\n",
    "sns.set()\n",
    "sns.set_context('notebook')\n",
    "\n",
    "\n",
    "fig, ((ax1, ax2), (ax3, ax4), (ax5, ax6)) = plt.subplots(3,2, figsize=(15,15))\n",
    "fig.suptitle('Distribution of macronutrients')\n",
    "ax1.hist(solid_foods['Calories'], bins=15, color=macros_columns_dict['Calories'])\n",
    "ax1.set(xlabel='Calories (kcal)')\n",
    "ax2.hist(solid_foods['Carbs'], bins=20, color=macros_columns_dict['Carbs'])\n",
    "ax2.set(xlabel='Carbs (g)')\n",
    "ax3.hist(solid_foods['Protein'], bins=20, color=macros_columns_dict['Protein'])\n",
    "ax3.set(xlabel='Protein (g)')\n",
    "ax4.hist(solid_foods['Fat'], bins=20, color=macros_columns_dict['Fat'])\n",
    "ax4.set(xlabel='Fat (g)')\n",
    "ax5.hist(solid_foods['Fiber'], bins=20, color=macros_columns_dict['Fiber'])\n",
    "ax5.set(xlabel='Fiber (g)')\n",
    "ax6.axis('off')\n",
    "\n",
    "plt.show()"
   ]
  },
  {
   "cell_type": "code",
   "execution_count": null,
   "metadata": {},
   "outputs": [],
   "source": [
    "alpha=0.8\n",
    "fig, ax = plt.subplots(sharey=True, figsize=(8,8))\n",
    "#ax = fig.add_subplot()\n",
    "ax.set(title='Caloric value vs. amount of macronutrients per 100g of food', \n",
    "       ylabel='kcal per 100g', \n",
    "       xlabel='Macronutrients per 100g (g)')\n",
    "ax1 = ax.scatter(x='Protein', y='Calories', data=solid_foods, alpha=alpha)\n",
    "ax2 = ax.scatter(x='Carbs', y='Calories', data=solid_foods, alpha=alpha)\n",
    "ax3 = ax.scatter(x='Fat', y='Calories', data=solid_foods, alpha=alpha)\n",
    "\n",
    "ax.legend((ax1, ax2, ax3), ('Proteins', 'Carbohydrates', 'Fats'), loc='best')\n",
    "plt.show()\n",
    "\n"
   ]
  },
  {
   "cell_type": "markdown",
   "metadata": {},
   "source": [
    "Limit in amount of proteins per 100g; linear dependence fat X calories"
   ]
  },
  {
   "cell_type": "code",
   "execution_count": null,
   "metadata": {},
   "outputs": [],
   "source": [
    "import numpy as np\n",
    "\n",
    "ax = dict(zip(macros_columns, [0,0,0,0,0]))\n",
    "coef = dict(zip(macros_columns, [0,0,0,0,0]))\n",
    "fig, ((ax['Carbs'], ax['Protein']), (ax['Fat'], ax['Fiber'])) = plt.subplots(2,2, figsize=(15,15))\n",
    "Y = np.array(solid_foods['Calories'])\n",
    "fig.suptitle('Macronutrients vs. caloric value')\n",
    "\n",
    "for column in macros_columns_dict.keys():\n",
    "    if column == 'Calories':\n",
    "        continue\n",
    "    \n",
    "    else:\n",
    "        X = np.array(solid_foods[column]) #numpy array for the x-axis\n",
    "        p, cov = np.polyfit(X, Y, deg=1, cov=True)\n",
    "        coef[column] = {'angular':(p[0], cov[0,0]), 'linear':(p[1], cov[1,1])}\n",
    "        \n",
    "        ax[column].scatter(x=column, y='Calories', data=solid_foods, color=macros_columns_dict[column])\n",
    "        ax[column].plot(solid_foods[column], p[0]*solid_foods[column] + p[1], 'red', linewidth=0.7)\n",
    "        ax[column].set(title='Caloric value vs. '+ column +' content per 100g of food', \n",
    "                   ylabel='kcal per 100g', \n",
    "                   xlabel= column + ' per 100g (g)')\n",
    "        \n",
    "\n",
    "print(coef['Carbs']['angular'])\n",
    "    \n",
    "plt.show()"
   ]
  },
  {
   "cell_type": "markdown",
   "metadata": {},
   "source": [
    "Aprox. 8.85 kcal per gram of fat; get uncertainty, comment b"
   ]
  },
  {
   "cell_type": "code",
   "execution_count": null,
   "metadata": {},
   "outputs": [],
   "source": [
    "X_caloriesT = np.array(4*(solid_foods['Protein'] + solid_foods['Carbs']) + 9*solid_foods['Fat'])\n",
    "#X_caloriesP = np.array(p_prot[0]*solid_foods['Protein'] + p_carbs[0]*solid_foods['Carbs'] + p_fat[0]*solid_foods['Fat'])\n",
    "a_kcT, b_kcT = np.polyfit(X_caloriesT, Y, deg=1)\n",
    "#a_kcP, b_kcP = np.polyfit(X_caloriesP, Y, deg=1)\n",
    "\n",
    "plt.scatter(x=X_caloriesT, y=solid_foods['Calories'])\n",
    "plt.plot(X_caloriesT, a_kcT*X_caloriesT + b_kcT, 'red', linewidth=0.7)\n",
    "plt.show()\n",
    "\n",
    "print(a_kcT, b_kcT)\n",
    "\n",
    "#plt.scatter(x=X_caloriesP, y=solid_foods['Calories'])\n",
    "#plt.plot(X_caloriesP, a_kcP*X_caloriesP + b_kcP, 'red', linewidth=0.7)\n",
    "#plt.show()\n",
    "\n",
    "#print(a_kcP, b_kcP)\n"
   ]
  },
  {
   "cell_type": "markdown",
   "metadata": {},
   "source": [
    "## Considering portion size"
   ]
  },
  {
   "cell_type": "code",
   "execution_count": null,
   "metadata": {},
   "outputs": [],
   "source": [
    "portion_sizes = df[['Name', 'Portion_size_g']].set_index('Name')\n",
    "portion_sizes.head()\n",
    "\n",
    "solid_foods_portion = pd.merge(portion_sizes, solid_foods, on='Name', how='inner')\n",
    "display(portion_sizes.shape)\n",
    "display(solid_foods.shape)\n",
    "display(solid_foods_portion.shape)\n",
    "display(solid_foods_portion.head())"
   ]
  },
  {
   "cell_type": "code",
   "execution_count": null,
   "metadata": {},
   "outputs": [],
   "source": [
    "for column in macros_columns:\n",
    "    solid_foods_portion[column + '_per_portion'] = solid_foods_portion[column] * solid_foods_portion['Portion_size_g']\n",
    "    solid_foods_portion.drop(column, axis=1, inplace=True)\n",
    "    \n",
    "display(solid_foods_portion.head())"
   ]
  },
  {
   "cell_type": "code",
   "execution_count": null,
   "metadata": {},
   "outputs": [],
   "source": [
    "macronutrients_per_portion = {'Calories_per_portion':'purple', 'Carbs_per_portion':'orange', 'Protein_per_portion':'blue', 'Fat_per_portion':'green', 'Fiber_per_portion':'red'}\n",
    "\n",
    "alpha=0.6\n",
    "# fig, ax = plt.subplots(sharey=True)\n",
    "# ax.set(title='Caloric value vs. amount of macronutrients per portion of food', \n",
    "#        ylabel='kcal per portion', \n",
    "#        xlabel='Macronutrients per portion (g)')\n",
    "# ax1 = ax.scatter(x='Protein_per_portion', y='Calories_per_portion', data=solid_foods_portion, alpha=alpha)\n",
    "# ax2 = ax.scatter(x='Carbs_per_portion', y='Calories_per_portion', data=solid_foods_portion, alpha=alpha)\n",
    "# ax3 = ax.scatter(x='Fat_per_portion', y='Calories_per_portion', data=solid_foods_portion, alpha=alpha)\n",
    "\n",
    "# ax.legend((ax1, ax2, ax3), ('Proteins_per_portion', 'Carbohydrates_per_portion', 'Fats_per_portion'))\n",
    "# plt.show()\n",
    "\n",
    "fig, ax = plt.subplots(figsize=(10,10))\n",
    "for column in macronutrients_per_portion.keys():\n",
    "    if column == 'Calories_per_portion':\n",
    "        continue\n",
    "    else:\n",
    "        ax.scatter(x=column, y='Calories_per_portion', data=solid_foods_portion, alpha=0.4, color = macronutrients_per_portion[column])\n",
    "\n",
    "ax.set(xlabel='Macronutrients (g)', ylabel='Calories per portion (kcal)', title='Caloric value vs. amount of macronutrients per portion of food')\n",
    "ax.legend(('Proteins_per_portion', 'Carbohydrates_per_portion', 'Fats_per_portion', 'Fibers_per_portion'))\n",
    "\n",
    "plt.show()"
   ]
  },
  {
   "cell_type": "code",
   "execution_count": null,
   "metadata": {},
   "outputs": [],
   "source": [
    "\n",
    "ax = dict(zip(macronutrients_per_portion.keys(), [0,0,0,0,0]))\n",
    "# print(ax)\n",
    "# coef = dict(zip(columns, [0,0,0,0,0]))\n",
    "fig, ((ax['Carbs_per_portion'], ax['Protein_per_portion']), (ax['Fat_per_portion'], ax['Fiber_per_portion'])) = plt.subplots(2,2, figsize=(15,15))\n",
    "# Y = np.array(solid_foods['Calories'])\n",
    "fig.suptitle('Macronutrients vs. caloric value')\n",
    "\n",
    "for column in macronutrients_per_portion.keys():\n",
    "    if column == 'Calories_per_portion':\n",
    "        continue\n",
    "    \n",
    "    else:\n",
    "        #X = np.array(solid_foods[column]) #numpy array for the x-axis\n",
    "        #p, cov = np.polyfit(X, Y, deg=1, cov=True)\n",
    "        #coef[column] = {'angular':(p[0], cov[0,0]), 'linear':(p[1], cov[1,1])}\n",
    "        \n",
    "        ax[column].scatter(x=column, y='Calories_per_portion', data=solid_foods_portion,color=macronutrients_per_portion[column])\n",
    "        #ax[column].plot(solid_foods[column], p[0]*solid_foods[column] + p[1], 'red', linewidth=0.7)\n",
    "        ax[column].set(title='Caloric value vs. '+ column, \n",
    "                   ylabel='kcal per portion', \n",
    "                   xlabel= column)\n",
    "\n",
    "plt.show()"
   ]
  },
  {
   "cell_type": "markdown",
   "metadata": {},
   "source": [
    " - Visualize the avocado: superfood.\n",
    " - Where is the salad?"
   ]
  },
  {
   "cell_type": "markdown",
   "metadata": {},
   "source": [
    "## Categories evaluation"
   ]
  },
  {
   "cell_type": "code",
   "execution_count": null,
   "metadata": {},
   "outputs": [],
   "source": [
    "import seaborn as sns\n",
    "\n",
    "current_palette = 'Set1'\n",
    "\n",
    "# columns_portion = ['Calories_per_portion', 'Carbs_per_portion', 'Protein_per_portion', 'Fat_per_portion', 'Fiber_per_portion']\n",
    "# for column in columns_portion:\n",
    "#     if column == 'Calories_per_portion':\n",
    "#         continue\n",
    "#     else:\n",
    "#         for cat in solid_foods_portion['Category_1']:\n",
    "#             print(cat)\n",
    "# #         ax= sns.scatterplot(data=solid_foods_portion, x=column, y='Calories_per_portion', hue='Category_1', legend='full', palette=current_palette)\n",
    "# #         plt.xlabel(column + ' amount per portion (g)')\n",
    "# #         plt.ylabel('Calories per portion (kcal)')\n",
    "# #         plt.title('Caloric value vs. ' + column)\n",
    "# #         plt.legend(loc='center right', bbox_to_anchor=(1.4, 0.5), labels=['q','w','e','r','t','y','u','i','o','p'])\n",
    "# #         plt.show()\n",
    "\n",
    "\n",
    "columns_portion = ['Calories_per_portion', 'Carbs_per_portion', 'Protein_per_portion', 'Fat_per_portion', 'Fiber_per_portion']\n",
    "for column in columns_portion:\n",
    "    if column == 'Calories_per_portion':\n",
    "        continue\n",
    "    else:\n",
    "        ax= sns.scatterplot(data=solid_foods_portion, x=column, y='Calories_per_portion', hue='Category_names', size=None, legend='full', palette=current_palette)\n",
    "        plt.xlabel(column + ' amount per portion (g)')\n",
    "        plt.ylabel('Calories per portion (kcal)')\n",
    "        plt.title('Caloric value vs. ' + column)\n",
    "        plt.legend(loc='center right', bbox_to_anchor=(1.7, 0.5))\n",
    "        plt.show()\n"
   ]
  },
  {
   "cell_type": "code",
   "execution_count": null,
   "metadata": {
    "scrolled": true
   },
   "outputs": [],
   "source": [
    "#sns.set_style('whitegrid')\n",
    "for column in columns:\n",
    "    if column == 'Calories':\n",
    "        continue\n",
    "    else:\n",
    "        fig, ax = plt.subplots(figsize=(8,8))\n",
    "        ax= sns.scatterplot(data=solid_foods, x=column, y='Calories', hue='Category_names', size=None, legend='full', palette=current_palette)\n",
    "        ax.set(ylabel='Calories per 100g (kcal)', xlabel=(column + ' amount per 100g (g)'), xlim=(-4, 1.1*solid_foods[column].max()), ylim=(-10, 900))\n",
    "        plt.title('Caloric value vs. ' + column)\n",
    "        plt.legend(loc='center right', bbox_to_anchor=(1.7, 0.5))\n",
    "        plt.show()\n"
   ]
  }
 ],
 "metadata": {
  "kernelspec": {
   "display_name": "Python 3",
   "language": "python",
   "name": "python3"
  },
  "language_info": {
   "codemirror_mode": {
    "name": "ipython",
    "version": 3
   },
   "file_extension": ".py",
   "mimetype": "text/x-python",
   "name": "python",
   "nbconvert_exporter": "python",
   "pygments_lexer": "ipython3",
   "version": "3.7.4"
  }
 },
 "nbformat": 4,
 "nbformat_minor": 2
}
